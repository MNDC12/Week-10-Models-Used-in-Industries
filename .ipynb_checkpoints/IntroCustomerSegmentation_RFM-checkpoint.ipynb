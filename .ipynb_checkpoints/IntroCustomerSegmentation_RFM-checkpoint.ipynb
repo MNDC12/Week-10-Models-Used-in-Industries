{
 "cells": [
  {
   "cell_type": "markdown",
   "metadata": {
    "colab_type": "text",
    "id": "view-in-github"
   },
   "source": [
    "<a href=\"https://colab.research.google.com/github/titaofdata/Week-10-Models-Used-in-Industries/blob/main/IntroCustomerSegmentation_RFM.ipynb\" target=\"_parent\"><img src=\"https://colab.research.google.com/assets/colab-badge.svg\" alt=\"Open In Colab\"/></a>"
   ]
  },
  {
   "cell_type": "markdown",
   "metadata": {
    "id": "gcjimI-l826T"
   },
   "source": [
    "# Customer Segmentation"
   ]
  },
  {
   "cell_type": "markdown",
   "metadata": {
    "id": "oENhLmDh9ANU"
   },
   "source": [
    "When it comes to finding out who your best customers are, the old RFM matrix principle is the best. \n",
    "\n",
    "RFM stands for *Recency*, *Frequency* and *Monetary.*   \n",
    "\n",
    "It is a customer segmentation technique that uses past purchase behavior to divide customers into groups.  \n",
    "\n",
    "\n",
    "### RFM Score Calculations  \n",
    "\n",
    "**RECENCY (R)**: Days since last purchase  \n",
    "**FREQUENCY (F)**: Total number of purchases  \n",
    "**MONETARY VALUE (M)**: Total money this customer spent  \n",
    "\n",
    "It is based on the marketing axiom that **80% of your business comes from 20% of your customers**.\n",
    "\n",
    "RFM helps to identify customers who are more likely to respond to promotions by segmenting them into various categories.\n"
   ]
  },
  {
   "cell_type": "markdown",
   "metadata": {
    "id": "sucq46l6Md0J"
   },
   "source": [
    "### Import Packages"
   ]
  },
  {
   "cell_type": "code",
   "execution_count": 46,
   "metadata": {
    "id": "Ta3PKLpXMU5x"
   },
   "outputs": [],
   "source": [
    "# import package\n",
    "import pandas as pd\n",
    "\n",
    "# suppress error warnings\n",
    "import warnings\n",
    "warnings.filterwarnings('ignore')\n",
    "\n",
    "# from google.colab import files\n",
    "\n",
    "# import required libraries for dataframe and visualization\n",
    "\n",
    "import numpy as np\n",
    "import pandas as pd\n",
    "import matplotlib.pyplot as plt\n",
    "import seaborn as sns\n",
    "import datetime as dt"
   ]
  },
  {
   "cell_type": "markdown",
   "metadata": {
    "id": "wZFNlIWQMb9k"
   },
   "source": [
    "### Read Data"
   ]
  },
  {
   "cell_type": "code",
   "execution_count": 45,
   "metadata": {
    "colab": {
     "base_uri": "https://localhost:8080/",
     "height": 197
    },
    "id": "idYRvIIK8tbk",
    "outputId": "10a94a81-7e9e-4a76-904b-47be68eef5b2"
   },
   "outputs": [
    {
     "data": {
      "application/vnd.jupyter.widget-view+json": {
       "model_id": "510e04c0798143bdb244d5e974056231"
      },
      "text/html": [
       "<div>\n",
       "<style scoped>\n",
       "    .dataframe tbody tr th:only-of-type {\n",
       "        vertical-align: middle;\n",
       "    }\n",
       "\n",
       "    .dataframe tbody tr th {\n",
       "        vertical-align: top;\n",
       "    }\n",
       "\n",
       "    .dataframe thead th {\n",
       "        text-align: right;\n",
       "    }\n",
       "</style>\n",
       "<table border=\"1\" class=\"dataframe\">\n",
       "  <thead>\n",
       "    <tr style=\"text-align: right;\">\n",
       "      <th></th>\n",
       "      <th>InvoiceNo</th>\n",
       "      <th>StockCode</th>\n",
       "      <th>Description</th>\n",
       "      <th>Quantity</th>\n",
       "      <th>InvoiceDate</th>\n",
       "      <th>UnitPrice</th>\n",
       "      <th>CustomerID</th>\n",
       "      <th>Country</th>\n",
       "      <th>Sales</th>\n",
       "    </tr>\n",
       "  </thead>\n",
       "  <tbody>\n",
       "    <tr>\n",
       "      <th>0</th>\n",
       "      <td>536365</td>\n",
       "      <td>85123A</td>\n",
       "      <td>WHITE HANGING HEART T-LIGHT HOLDER</td>\n",
       "      <td>6</td>\n",
       "      <td>2010-12-01 08:26:00</td>\n",
       "      <td>2.55</td>\n",
       "      <td>17850.0</td>\n",
       "      <td>United Kingdom</td>\n",
       "      <td>15.30</td>\n",
       "    </tr>\n",
       "    <tr>\n",
       "      <th>1</th>\n",
       "      <td>536365</td>\n",
       "      <td>71053</td>\n",
       "      <td>WHITE METAL LANTERN</td>\n",
       "      <td>6</td>\n",
       "      <td>2010-12-01 08:26:00</td>\n",
       "      <td>3.39</td>\n",
       "      <td>17850.0</td>\n",
       "      <td>United Kingdom</td>\n",
       "      <td>20.34</td>\n",
       "    </tr>\n",
       "    <tr>\n",
       "      <th>2</th>\n",
       "      <td>536365</td>\n",
       "      <td>84406B</td>\n",
       "      <td>CREAM CUPID HEARTS COAT HANGER</td>\n",
       "      <td>8</td>\n",
       "      <td>2010-12-01 08:26:00</td>\n",
       "      <td>2.75</td>\n",
       "      <td>17850.0</td>\n",
       "      <td>United Kingdom</td>\n",
       "      <td>22.00</td>\n",
       "    </tr>\n",
       "    <tr>\n",
       "      <th>3</th>\n",
       "      <td>536365</td>\n",
       "      <td>84029G</td>\n",
       "      <td>KNITTED UNION FLAG HOT WATER BOTTLE</td>\n",
       "      <td>6</td>\n",
       "      <td>2010-12-01 08:26:00</td>\n",
       "      <td>3.39</td>\n",
       "      <td>17850.0</td>\n",
       "      <td>United Kingdom</td>\n",
       "      <td>20.34</td>\n",
       "    </tr>\n",
       "    <tr>\n",
       "      <th>4</th>\n",
       "      <td>536365</td>\n",
       "      <td>84029E</td>\n",
       "      <td>RED WOOLLY HOTTIE WHITE HEART.</td>\n",
       "      <td>6</td>\n",
       "      <td>2010-12-01 08:26:00</td>\n",
       "      <td>3.39</td>\n",
       "      <td>17850.0</td>\n",
       "      <td>United Kingdom</td>\n",
       "      <td>20.34</td>\n",
       "    </tr>\n",
       "  </tbody>\n",
       "</table>\n",
       "</div>"
      ],
      "text/plain": [
       "  InvoiceNo StockCode                          Description  Quantity  \\\n",
       "0    536365    85123A   WHITE HANGING HEART T-LIGHT HOLDER         6   \n",
       "1    536365     71053                  WHITE METAL LANTERN         6   \n",
       "2    536365    84406B       CREAM CUPID HEARTS COAT HANGER         8   \n",
       "3    536365    84029G  KNITTED UNION FLAG HOT WATER BOTTLE         6   \n",
       "4    536365    84029E       RED WOOLLY HOTTIE WHITE HEART.         6   \n",
       "\n",
       "          InvoiceDate  UnitPrice  CustomerID         Country  Sales  \n",
       "0 2010-12-01 08:26:00       2.55     17850.0  United Kingdom  15.30  \n",
       "1 2010-12-01 08:26:00       3.39     17850.0  United Kingdom  20.34  \n",
       "2 2010-12-01 08:26:00       2.75     17850.0  United Kingdom  22.00  \n",
       "3 2010-12-01 08:26:00       3.39     17850.0  United Kingdom  20.34  \n",
       "4 2010-12-01 08:26:00       3.39     17850.0  United Kingdom  20.34  "
      ]
     },
     "metadata": {},
     "output_type": "display_data"
    }
   ],
   "source": [
    "# load dataset\n",
    "data = pd.read_excel('http://archive.ics.uci.edu/ml/machine-learning-databases/00352/Online%20Retail.xlsx')\n",
    "#data = pd.read_excel('Online Retail.xlsx')\n",
    "\n",
    "# Define Sales Column\n",
    "data['Sales'] = data['Quantity'] * data['UnitPrice']\n",
    "data.head()\n"
   ]
  },
  {
   "cell_type": "markdown",
   "metadata": {
    "id": "SvO2r5ueN6vc"
   },
   "source": [
    "### Create RFM Segments"
   ]
  },
  {
   "cell_type": "markdown",
   "metadata": {
    "id": "6KLRBRre5wZ7"
   },
   "source": [
    "These are the the only 4 things we need to build our RFM segments:\n",
    "1. *customers* : feature that specifies your users,\n",
    "2. *dates* : dates of transactions\n",
    "3. *transactions* : transaction number\n",
    "4. *prices* : price of amount sold"
   ]
  },
  {
   "cell_type": "code",
   "execution_count": 47,
   "metadata": {
    "colab": {
     "base_uri": "https://localhost:8080/",
     "height": 34
    },
    "id": "pBfoph1PHmRH",
    "outputId": "d9c5ea85-a973-4122-b88c-24f4c4b83aba"
   },
   "outputs": [
    {
     "data": {
      "text/plain": [
       "(541909, 9)"
      ]
     },
     "execution_count": 47,
     "metadata": {},
     "output_type": "execute_result"
    }
   ],
   "source": [
    "data.shape"
   ]
  },
  {
   "cell_type": "code",
   "execution_count": 49,
   "metadata": {},
   "outputs": [
    {
     "name": "stdout",
     "output_type": "stream",
     "text": [
      "<class 'pandas.core.frame.DataFrame'>\n",
      "RangeIndex: 541909 entries, 0 to 541908\n",
      "Data columns (total 9 columns):\n",
      " #   Column       Non-Null Count   Dtype         \n",
      "---  ------       --------------   -----         \n",
      " 0   InvoiceNo    541909 non-null  object        \n",
      " 1   StockCode    541909 non-null  object        \n",
      " 2   Description  540455 non-null  object        \n",
      " 3   Quantity     541909 non-null  int64         \n",
      " 4   InvoiceDate  541909 non-null  datetime64[ns]\n",
      " 5   UnitPrice    541909 non-null  float64       \n",
      " 6   CustomerID   406829 non-null  float64       \n",
      " 7   Country      541909 non-null  object        \n",
      " 8   Sales        541909 non-null  float64       \n",
      "dtypes: datetime64[ns](1), float64(3), int64(1), object(4)\n",
      "memory usage: 37.2+ MB\n"
     ]
    }
   ],
   "source": [
    "data.info()"
   ]
  },
  {
   "cell_type": "code",
   "execution_count": 51,
   "metadata": {},
   "outputs": [
    {
     "data": {
      "application/vnd.jupyter.widget-view+json": {
       "model_id": "5113b218f46e4a8f92bfd43adc85ab61"
      },
      "text/html": [
       "<div>\n",
       "<style scoped>\n",
       "    .dataframe tbody tr th:only-of-type {\n",
       "        vertical-align: middle;\n",
       "    }\n",
       "\n",
       "    .dataframe tbody tr th {\n",
       "        vertical-align: top;\n",
       "    }\n",
       "\n",
       "    .dataframe thead th {\n",
       "        text-align: right;\n",
       "    }\n",
       "</style>\n",
       "<table border=\"1\" class=\"dataframe\">\n",
       "  <thead>\n",
       "    <tr style=\"text-align: right;\">\n",
       "      <th></th>\n",
       "      <th>Quantity</th>\n",
       "      <th>UnitPrice</th>\n",
       "      <th>CustomerID</th>\n",
       "      <th>Sales</th>\n",
       "    </tr>\n",
       "  </thead>\n",
       "  <tbody>\n",
       "    <tr>\n",
       "      <th>count</th>\n",
       "      <td>541909.000000</td>\n",
       "      <td>541909.000000</td>\n",
       "      <td>406829.000000</td>\n",
       "      <td>541909.000000</td>\n",
       "    </tr>\n",
       "    <tr>\n",
       "      <th>mean</th>\n",
       "      <td>9.552250</td>\n",
       "      <td>4.611114</td>\n",
       "      <td>15287.690570</td>\n",
       "      <td>17.987795</td>\n",
       "    </tr>\n",
       "    <tr>\n",
       "      <th>std</th>\n",
       "      <td>218.081158</td>\n",
       "      <td>96.759853</td>\n",
       "      <td>1713.600303</td>\n",
       "      <td>378.810824</td>\n",
       "    </tr>\n",
       "    <tr>\n",
       "      <th>min</th>\n",
       "      <td>-80995.000000</td>\n",
       "      <td>-11062.060000</td>\n",
       "      <td>12346.000000</td>\n",
       "      <td>-168469.600000</td>\n",
       "    </tr>\n",
       "    <tr>\n",
       "      <th>25%</th>\n",
       "      <td>1.000000</td>\n",
       "      <td>1.250000</td>\n",
       "      <td>13953.000000</td>\n",
       "      <td>3.400000</td>\n",
       "    </tr>\n",
       "    <tr>\n",
       "      <th>50%</th>\n",
       "      <td>3.000000</td>\n",
       "      <td>2.080000</td>\n",
       "      <td>15152.000000</td>\n",
       "      <td>9.750000</td>\n",
       "    </tr>\n",
       "    <tr>\n",
       "      <th>75%</th>\n",
       "      <td>10.000000</td>\n",
       "      <td>4.130000</td>\n",
       "      <td>16791.000000</td>\n",
       "      <td>17.400000</td>\n",
       "    </tr>\n",
       "    <tr>\n",
       "      <th>max</th>\n",
       "      <td>80995.000000</td>\n",
       "      <td>38970.000000</td>\n",
       "      <td>18287.000000</td>\n",
       "      <td>168469.600000</td>\n",
       "    </tr>\n",
       "  </tbody>\n",
       "</table>\n",
       "</div>"
      ],
      "text/plain": [
       "            Quantity      UnitPrice     CustomerID          Sales\n",
       "count  541909.000000  541909.000000  406829.000000  541909.000000\n",
       "mean        9.552250       4.611114   15287.690570      17.987795\n",
       "std       218.081158      96.759853    1713.600303     378.810824\n",
       "min    -80995.000000  -11062.060000   12346.000000 -168469.600000\n",
       "25%         1.000000       1.250000   13953.000000       3.400000\n",
       "50%         3.000000       2.080000   15152.000000       9.750000\n",
       "75%        10.000000       4.130000   16791.000000      17.400000\n",
       "max     80995.000000   38970.000000   18287.000000  168469.600000"
      ]
     },
     "metadata": {},
     "output_type": "display_data"
    }
   ],
   "source": [
    "data.describe()"
   ]
  },
  {
   "cell_type": "code",
   "execution_count": 52,
   "metadata": {},
   "outputs": [
    {
     "data": {
      "text/plain": [
       "InvoiceNo       0.00\n",
       "StockCode       0.00\n",
       "Description     0.27\n",
       "Quantity        0.00\n",
       "InvoiceDate     0.00\n",
       "UnitPrice       0.00\n",
       "CustomerID     24.93\n",
       "Country         0.00\n",
       "Sales           0.00\n",
       "dtype: float64"
      ]
     },
     "execution_count": 52,
     "metadata": {},
     "output_type": "execute_result"
    }
   ],
   "source": [
    "# Calculating the Missing Values % contribution in DF\n",
    "\n",
    "data_null = round(100*(data.isnull().sum())/len(data), 2)\n",
    "data_null"
   ]
  },
  {
   "cell_type": "code",
   "execution_count": 53,
   "metadata": {},
   "outputs": [
    {
     "data": {
      "text/plain": [
       "(406829, 9)"
      ]
     },
     "execution_count": 53,
     "metadata": {},
     "output_type": "execute_result"
    }
   ],
   "source": [
    "# Droping rows having missing values\n",
    "\n",
    "data = data.dropna()\n",
    "data.shape"
   ]
  },
  {
   "cell_type": "code",
   "execution_count": 54,
   "metadata": {
    "id": "aqsk7p-d2HwL"
   },
   "outputs": [],
   "source": [
    "customers = 'CustomerID'\n",
    "dates = 'InvoiceDate'\n",
    "transactions = 'InvoiceNo'\n",
    "prices = 'Sales'"
   ]
  },
  {
   "cell_type": "code",
   "execution_count": 55,
   "metadata": {
    "id": "oLsowadTlBWU"
   },
   "outputs": [],
   "source": [
    "# Stripping extra spaces in the description \n",
    "data['Description'] = data['Description'].str.strip()\n",
    "data.dropna(axis=0, subset=['InvoiceNo'], inplace=True)\n",
    "\n",
    "# Dropping all transactions which were done on credit \n",
    "data['InvoiceNo'] = data['InvoiceNo'].astype('str')\n",
    "data = data[~data['InvoiceNo'].str.contains('C')]\n",
    "\n",
    "# Format datatype according to business definition\n",
    "data['CustomerID'] = data['CustomerID'].astype(str)"
   ]
  },
  {
   "cell_type": "code",
   "execution_count": 56,
   "metadata": {},
   "outputs": [
    {
     "data": {
      "image/png": "[encoded data removed]",
      "text/plain": [
       "<Figure size 1080x504 with 1 Axes>"
      ]
     },
     "metadata": {},
     "output_type": "display_data"
    }
   ],
   "source": [
    "# visualizing the unitprice\n",
    "\n",
    "plt.rcParams['figure.figsize'] = (15, 7)\n",
    "plt.style.use('fivethirtyeight')\n",
    "sns.distplot(data['UnitPrice'], color = 'lightblue')\n",
    "plt.title('Distribution of Unit price', fontsize = 20)\n",
    "plt.xlabel('Different Unit Price for different items')\n",
    "plt.ylabel('count')\n",
    "plt.show()"
   ]
  },
  {
   "cell_type": "code",
   "execution_count": 57,
   "metadata": {},
   "outputs": [
    {
     "data": {
      "text/plain": [
       "United Kingdom     354345\n",
       "Germany              9042\n",
       "France               8342\n",
       "EIRE                 7238\n",
       "Spain                2485\n",
       "Netherlands          2363\n",
       "Belgium              2031\n",
       "Switzerland          1842\n",
       "Portugal             1462\n",
       "Australia            1185\n",
       "Norway               1072\n",
       "Italy                 758\n",
       "Channel Islands       748\n",
       "Finland               685\n",
       "Cyprus                614\n",
       "Sweden                451\n",
       "Austria               398\n",
       "Denmark               380\n",
       "Poland                330\n",
       "Japan                 321\n",
       "Name: Country, dtype: int64"
      ]
     },
     "execution_count": 57,
     "metadata": {},
     "output_type": "execute_result"
    }
   ],
   "source": [
    "# checking the different values for country in the dataset\n",
    "\n",
    "data['Country'].value_counts().head(20)"
   ]
  },
  {
   "cell_type": "code",
   "execution_count": 58,
   "metadata": {},
   "outputs": [
    {
     "name": "stdout",
     "output_type": "stream",
     "text": [
      "There are 4339 number of different customers\n"
     ]
    }
   ],
   "source": [
    "# checking how many unique customer IDs are there\n",
    "\n",
    "x = data['CustomerID'].nunique()\n",
    "\n",
    "# printing the value\n",
    "print(\"There are {} number of different customers\".format(x))"
   ]
  },
  {
   "cell_type": "code",
   "execution_count": 59,
   "metadata": {},
   "outputs": [
    {
     "data": {
      "image/png": "[encoded data removed]",
      "text/plain": [
       "<Figure size 1080x360 with 1 Axes>"
      ]
     },
     "metadata": {},
     "output_type": "display_data"
    }
   ],
   "source": [
    "# visualizing the sales in the entire globe\n",
    "plt.rcParams['figure.figsize'] = (15, 5)\n",
    "sns.distplot(data['Sales'], color = 'crimson')\n",
    "plt.title('Distribution of Sales in entire globe', fontsize = 20)\n",
    "plt.xlabel('Sales in different Countries')\n",
    "plt.ylabel('Sales')\n",
    "plt.show()"
   ]
  },
  {
   "cell_type": "code",
   "execution_count": 60,
   "metadata": {},
   "outputs": [
    {
     "data": {
      "image/png": "[encoded data removed]",
      "text/plain": [
       "<Figure size 1080x360 with 1 Axes>"
      ]
     },
     "metadata": {},
     "output_type": "display_data"
    }
   ],
   "source": [
    "# let's look at Sales vs Invoicedate (Time series Analysis)\n",
    "\n",
    "plt.rcParams['figure.figsize'] = (15, 5)\n",
    "data.plot(x = 'InvoiceDate', y = 'Sales')\n",
    "plt.title(\"Time Series Analysis of Sales\", fontsize = 20)\n",
    "plt.xlabel('Date of Purchase')\n",
    "plt.ylabel('Sales')\n",
    "plt.show()"
   ]
  },
  {
   "cell_type": "code",
   "execution_count": 61,
   "metadata": {},
   "outputs": [
    {
     "data": {
      "application/vnd.jupyter.widget-view+json": {
       "model_id": "6db7dbb76b8647048bc7f6bdbe6d9da0"
      },
      "text/html": [
       "<div>\n",
       "<style scoped>\n",
       "    .dataframe tbody tr th:only-of-type {\n",
       "        vertical-align: middle;\n",
       "    }\n",
       "\n",
       "    .dataframe tbody tr th {\n",
       "        vertical-align: top;\n",
       "    }\n",
       "\n",
       "    .dataframe thead th {\n",
       "        text-align: right;\n",
       "    }\n",
       "</style>\n",
       "<table border=\"1\" class=\"dataframe\">\n",
       "  <thead>\n",
       "    <tr style=\"text-align: right;\">\n",
       "      <th></th>\n",
       "      <th>InvoiceNo</th>\n",
       "      <th>StockCode</th>\n",
       "      <th>Description</th>\n",
       "      <th>Quantity</th>\n",
       "      <th>InvoiceDate</th>\n",
       "      <th>UnitPrice</th>\n",
       "      <th>CustomerID</th>\n",
       "      <th>Country</th>\n",
       "      <th>Sales</th>\n",
       "    </tr>\n",
       "  </thead>\n",
       "  <tbody>\n",
       "    <tr>\n",
       "      <th>40089</th>\n",
       "      <td>539722</td>\n",
       "      <td>22423</td>\n",
       "      <td>REGENCY CAKESTAND 3 TIER</td>\n",
       "      <td>10</td>\n",
       "      <td>2010-12-21 13:45:00</td>\n",
       "      <td>0.00</td>\n",
       "      <td>14911.0</td>\n",
       "      <td>EIRE</td>\n",
       "      <td>0.00</td>\n",
       "    </tr>\n",
       "    <tr>\n",
       "      <th>33576</th>\n",
       "      <td>539263</td>\n",
       "      <td>22580</td>\n",
       "      <td>ADVENT CALENDAR GINGHAM SACK</td>\n",
       "      <td>4</td>\n",
       "      <td>2010-12-16 14:36:00</td>\n",
       "      <td>0.00</td>\n",
       "      <td>16560.0</td>\n",
       "      <td>United Kingdom</td>\n",
       "      <td>0.00</td>\n",
       "    </tr>\n",
       "    <tr>\n",
       "      <th>157042</th>\n",
       "      <td>550188</td>\n",
       "      <td>22636</td>\n",
       "      <td>CHILDS BREAKFAST SET CIRCUS PARADE</td>\n",
       "      <td>1</td>\n",
       "      <td>2011-04-14 18:57:00</td>\n",
       "      <td>0.00</td>\n",
       "      <td>12457.0</td>\n",
       "      <td>Switzerland</td>\n",
       "      <td>0.00</td>\n",
       "    </tr>\n",
       "    <tr>\n",
       "      <th>9302</th>\n",
       "      <td>537197</td>\n",
       "      <td>22841</td>\n",
       "      <td>ROUND CAKE TIN VINTAGE GREEN</td>\n",
       "      <td>1</td>\n",
       "      <td>2010-12-05 14:02:00</td>\n",
       "      <td>0.00</td>\n",
       "      <td>12647.0</td>\n",
       "      <td>Germany</td>\n",
       "      <td>0.00</td>\n",
       "    </tr>\n",
       "    <tr>\n",
       "      <th>361825</th>\n",
       "      <td>568384</td>\n",
       "      <td>M</td>\n",
       "      <td>Manual</td>\n",
       "      <td>1</td>\n",
       "      <td>2011-09-27 09:46:00</td>\n",
       "      <td>0.00</td>\n",
       "      <td>12748.0</td>\n",
       "      <td>United Kingdom</td>\n",
       "      <td>0.00</td>\n",
       "    </tr>\n",
       "    <tr>\n",
       "      <th>...</th>\n",
       "      <td>...</td>\n",
       "      <td>...</td>\n",
       "      <td>...</td>\n",
       "      <td>...</td>\n",
       "      <td>...</td>\n",
       "      <td>...</td>\n",
       "      <td>...</td>\n",
       "      <td>...</td>\n",
       "      <td>...</td>\n",
       "    </tr>\n",
       "    <tr>\n",
       "      <th>348325</th>\n",
       "      <td>567423</td>\n",
       "      <td>23243</td>\n",
       "      <td>SET OF TEA COFFEE SUGAR TINS PANTRY</td>\n",
       "      <td>1412</td>\n",
       "      <td>2011-09-20 11:05:00</td>\n",
       "      <td>5.06</td>\n",
       "      <td>17450.0</td>\n",
       "      <td>United Kingdom</td>\n",
       "      <td>7144.72</td>\n",
       "    </tr>\n",
       "    <tr>\n",
       "      <th>173382</th>\n",
       "      <td>551697</td>\n",
       "      <td>POST</td>\n",
       "      <td>POSTAGE</td>\n",
       "      <td>1</td>\n",
       "      <td>2011-05-03 13:46:00</td>\n",
       "      <td>8142.75</td>\n",
       "      <td>16029.0</td>\n",
       "      <td>United Kingdom</td>\n",
       "      <td>8142.75</td>\n",
       "    </tr>\n",
       "    <tr>\n",
       "      <th>222680</th>\n",
       "      <td>556444</td>\n",
       "      <td>22502</td>\n",
       "      <td>PICNIC BASKET WICKER 60 PIECES</td>\n",
       "      <td>60</td>\n",
       "      <td>2011-06-10 15:28:00</td>\n",
       "      <td>649.50</td>\n",
       "      <td>15098.0</td>\n",
       "      <td>United Kingdom</td>\n",
       "      <td>38970.00</td>\n",
       "    </tr>\n",
       "    <tr>\n",
       "      <th>61619</th>\n",
       "      <td>541431</td>\n",
       "      <td>23166</td>\n",
       "      <td>MEDIUM CERAMIC TOP STORAGE JAR</td>\n",
       "      <td>74215</td>\n",
       "      <td>2011-01-18 10:01:00</td>\n",
       "      <td>1.04</td>\n",
       "      <td>12346.0</td>\n",
       "      <td>United Kingdom</td>\n",
       "      <td>77183.60</td>\n",
       "    </tr>\n",
       "    <tr>\n",
       "      <th>540421</th>\n",
       "      <td>581483</td>\n",
       "      <td>23843</td>\n",
       "      <td>PAPER CRAFT , LITTLE BIRDIE</td>\n",
       "      <td>80995</td>\n",
       "      <td>2011-12-09 09:15:00</td>\n",
       "      <td>2.08</td>\n",
       "      <td>16446.0</td>\n",
       "      <td>United Kingdom</td>\n",
       "      <td>168469.60</td>\n",
       "    </tr>\n",
       "  </tbody>\n",
       "</table>\n",
       "<p>397924 rows × 9 columns</p>\n",
       "</div>"
      ],
      "text/plain": [
       "       InvoiceNo StockCode                          Description  Quantity  \\\n",
       "40089     539722     22423             REGENCY CAKESTAND 3 TIER        10   \n",
       "33576     539263     22580         ADVENT CALENDAR GINGHAM SACK         4   \n",
       "157042    550188     22636   CHILDS BREAKFAST SET CIRCUS PARADE         1   \n",
       "9302      537197     22841         ROUND CAKE TIN VINTAGE GREEN         1   \n",
       "361825    568384         M                               Manual         1   \n",
       "...          ...       ...                                  ...       ...   \n",
       "348325    567423     23243  SET OF TEA COFFEE SUGAR TINS PANTRY      1412   \n",
       "173382    551697      POST                              POSTAGE         1   \n",
       "222680    556444     22502       PICNIC BASKET WICKER 60 PIECES        60   \n",
       "61619     541431     23166       MEDIUM CERAMIC TOP STORAGE JAR     74215   \n",
       "540421    581483     23843          PAPER CRAFT , LITTLE BIRDIE     80995   \n",
       "\n",
       "               InvoiceDate  UnitPrice CustomerID         Country      Sales  \n",
       "40089  2010-12-21 13:45:00       0.00    14911.0            EIRE       0.00  \n",
       "33576  2010-12-16 14:36:00       0.00    16560.0  United Kingdom       0.00  \n",
       "157042 2011-04-14 18:57:00       0.00    12457.0     Switzerland       0.00  \n",
       "9302   2010-12-05 14:02:00       0.00    12647.0         Germany       0.00  \n",
       "361825 2011-09-27 09:46:00       0.00    12748.0  United Kingdom       0.00  \n",
       "...                    ...        ...        ...             ...        ...  \n",
       "348325 2011-09-20 11:05:00       5.06    17450.0  United Kingdom    7144.72  \n",
       "173382 2011-05-03 13:46:00    8142.75    16029.0  United Kingdom    8142.75  \n",
       "222680 2011-06-10 15:28:00     649.50    15098.0  United Kingdom   38970.00  \n",
       "61619  2011-01-18 10:01:00       1.04    12346.0  United Kingdom   77183.60  \n",
       "540421 2011-12-09 09:15:00       2.08    16446.0  United Kingdom  168469.60  \n",
       "\n",
       "[397924 rows x 9 columns]"
      ]
     },
     "metadata": {},
     "output_type": "display_data"
    }
   ],
   "source": [
    "# sorting the dataset by sales amount\n",
    "\n",
    "data.sort_values(by = 'Sales')"
   ]
  },
  {
   "cell_type": "code",
   "execution_count": 65,
   "metadata": {
    "colab": {
     "base_uri": "https://localhost:8080/",
     "height": 158
    },
    "id": "MnDfwck-l4e4",
    "outputId": "eb987994-c088-47cb-b58a-bd0553544aee"
   },
   "outputs": [
    {
     "data": {
      "text/plain": [
       "array(['United Kingdom', 'France', 'Australia', 'Netherlands', 'Germany',\n",
       "       'Norway', 'EIRE', 'Switzerland', 'Spain', 'Poland', 'Portugal',\n",
       "       'Italy', 'Belgium', 'Lithuania', 'Japan', 'Iceland',\n",
       "       'Channel Islands', 'Denmark', 'Cyprus', 'Sweden', 'Finland',\n",
       "       'Austria', 'Greece', 'Singapore', 'Lebanon',\n",
       "       'United Arab Emirates', 'Israel', 'Saudi Arabia', 'Czech Republic',\n",
       "       'Canada', 'Unspecified', 'Brazil', 'USA', 'European Community',\n",
       "       'Bahrain', 'Malta', 'RSA'], dtype=object)"
      ]
     },
     "execution_count": 65,
     "metadata": {},
     "output_type": "execute_result"
    }
   ],
   "source": [
    "data.Country.unique()"
   ]
  },
  {
   "cell_type": "code",
   "execution_count": 66,
   "metadata": {
    "id": "3Z-jL189lGaJ"
   },
   "outputs": [],
   "source": [
    "country = \"United Kingdom\"\n",
    "\n",
    "# Filter for a single country\n",
    "data_country = data[data.Country == country]"
   ]
  },
  {
   "cell_type": "code",
   "execution_count": 67,
   "metadata": {
    "id": "5RJgct3PMgew"
   },
   "outputs": [],
   "source": [
    "data = data_country\n",
    "\n",
    "NOW = datetime.datetime.now()\n",
    "\n",
    "# RFM Feature Engineering\n",
    "rfmTable = data.groupby(customers).agg({dates: lambda x: (NOW - x.max()).days, transactions: lambda x: len(x), prices: lambda x: x.sum()})\n",
    "rfmTable[dates] = rfmTable[dates].astype(int)\n",
    "rfmTable.rename(columns={dates: 'recency', \n",
    "                         transactions: 'frequency', \n",
    "                         prices: 'monetary_value'}, inplace=True)"
   ]
  },
  {
   "cell_type": "code",
   "execution_count": 68,
   "metadata": {
    "colab": {
     "base_uri": "https://localhost:8080/",
     "height": 227
    },
    "id": "YQGmAVWUOBUw",
    "outputId": "02d8a0bd-05bd-4008-a9e9-5a9d2dfbc0f4"
   },
   "outputs": [
    {
     "data": {
      "application/vnd.jupyter.widget-view+json": {
       "model_id": "edafc41278844a88bc5c7c1b04341a1c"
      },
      "text/html": [
       "<div>\n",
       "<style scoped>\n",
       "    .dataframe tbody tr th:only-of-type {\n",
       "        vertical-align: middle;\n",
       "    }\n",
       "\n",
       "    .dataframe tbody tr th {\n",
       "        vertical-align: top;\n",
       "    }\n",
       "\n",
       "    .dataframe thead th {\n",
       "        text-align: right;\n",
       "    }\n",
       "</style>\n",
       "<table border=\"1\" class=\"dataframe\">\n",
       "  <thead>\n",
       "    <tr style=\"text-align: right;\">\n",
       "      <th></th>\n",
       "      <th>recency</th>\n",
       "      <th>frequency</th>\n",
       "      <th>monetary_value</th>\n",
       "    </tr>\n",
       "    <tr>\n",
       "      <th>CustomerID</th>\n",
       "      <th></th>\n",
       "      <th></th>\n",
       "      <th></th>\n",
       "    </tr>\n",
       "  </thead>\n",
       "  <tbody>\n",
       "    <tr>\n",
       "      <th>12346.0</th>\n",
       "      <td>3566</td>\n",
       "      <td>1</td>\n",
       "      <td>77183.60</td>\n",
       "    </tr>\n",
       "    <tr>\n",
       "      <th>12747.0</th>\n",
       "      <td>3242</td>\n",
       "      <td>103</td>\n",
       "      <td>4196.01</td>\n",
       "    </tr>\n",
       "    <tr>\n",
       "      <th>12748.0</th>\n",
       "      <td>3240</td>\n",
       "      <td>4596</td>\n",
       "      <td>33719.73</td>\n",
       "    </tr>\n",
       "    <tr>\n",
       "      <th>12749.0</th>\n",
       "      <td>3244</td>\n",
       "      <td>199</td>\n",
       "      <td>4090.88</td>\n",
       "    </tr>\n",
       "    <tr>\n",
       "      <th>12820.0</th>\n",
       "      <td>3243</td>\n",
       "      <td>59</td>\n",
       "      <td>942.34</td>\n",
       "    </tr>\n",
       "  </tbody>\n",
       "</table>\n",
       "</div>"
      ],
      "text/plain": [
       "            recency  frequency  monetary_value\n",
       "CustomerID                                    \n",
       "12346.0        3566          1        77183.60\n",
       "12747.0        3242        103         4196.01\n",
       "12748.0        3240       4596        33719.73\n",
       "12749.0        3244        199         4090.88\n",
       "12820.0        3243         59          942.34"
      ]
     },
     "metadata": {},
     "output_type": "display_data"
    }
   ],
   "source": [
    "rfmTable.head()"
   ]
  },
  {
   "cell_type": "code",
   "execution_count": 69,
   "metadata": {
    "colab": {
     "base_uri": "https://localhost:8080/",
     "height": 34
    },
    "id": "w8p8VXj2IRTj",
    "outputId": "a72f5139-26fb-4320-be7c-727002a5c74a"
   },
   "outputs": [
    {
     "data": {
      "text/plain": [
       "(3921, 3)"
      ]
     },
     "execution_count": 69,
     "metadata": {},
     "output_type": "execute_result"
    }
   ],
   "source": [
    "rfmTable.shape"
   ]
  },
  {
   "cell_type": "markdown",
   "metadata": {
    "id": "LjJU0mgh6uRg"
   },
   "source": [
    "### Segment Users Based on Quantiles \n",
    "\n",
    "The easiest way to split metrics into segments is by using quartiles.  \n",
    "\n",
    "1. This gives us a starting point for the detailed analysis.\n",
    "2. 4 segments are easy to understand and explain.\n"
   ]
  },
  {
   "cell_type": "code",
   "execution_count": 70,
   "metadata": {
    "colab": {
     "base_uri": "https://localhost:8080/",
     "height": 287
    },
    "id": "c-rOYfZg7KRT",
    "outputId": "9cf5d606-968e-47c1-d5a4-8cc8eac62362"
   },
   "outputs": [
    {
     "data": {
      "application/vnd.jupyter.widget-view+json": {
       "model_id": "4d58163e7fc145a6833a67fc7e7ffe75"
      },
      "text/html": [
       "<div>\n",
       "<style scoped>\n",
       "    .dataframe tbody tr th:only-of-type {\n",
       "        vertical-align: middle;\n",
       "    }\n",
       "\n",
       "    .dataframe tbody tr th {\n",
       "        vertical-align: top;\n",
       "    }\n",
       "\n",
       "    .dataframe thead th {\n",
       "        text-align: right;\n",
       "    }\n",
       "</style>\n",
       "<table border=\"1\" class=\"dataframe\">\n",
       "  <thead>\n",
       "    <tr style=\"text-align: right;\">\n",
       "      <th></th>\n",
       "      <th>recency</th>\n",
       "      <th>frequency</th>\n",
       "      <th>monetary_value</th>\n",
       "    </tr>\n",
       "  </thead>\n",
       "  <tbody>\n",
       "    <tr>\n",
       "      <th>count</th>\n",
       "      <td>3921.000000</td>\n",
       "      <td>3921.000000</td>\n",
       "      <td>3921.000000</td>\n",
       "    </tr>\n",
       "    <tr>\n",
       "      <th>mean</th>\n",
       "      <td>3331.988778</td>\n",
       "      <td>90.371079</td>\n",
       "      <td>1863.910113</td>\n",
       "    </tr>\n",
       "    <tr>\n",
       "      <th>std</th>\n",
       "      <td>99.537381</td>\n",
       "      <td>217.796155</td>\n",
       "      <td>7481.922217</td>\n",
       "    </tr>\n",
       "    <tr>\n",
       "      <th>min</th>\n",
       "      <td>3240.000000</td>\n",
       "      <td>1.000000</td>\n",
       "      <td>0.000000</td>\n",
       "    </tr>\n",
       "    <tr>\n",
       "      <th>25%</th>\n",
       "      <td>3258.000000</td>\n",
       "      <td>17.000000</td>\n",
       "      <td>300.040000</td>\n",
       "    </tr>\n",
       "    <tr>\n",
       "      <th>50%</th>\n",
       "      <td>3290.000000</td>\n",
       "      <td>41.000000</td>\n",
       "      <td>651.820000</td>\n",
       "    </tr>\n",
       "    <tr>\n",
       "      <th>75%</th>\n",
       "      <td>3382.000000</td>\n",
       "      <td>99.000000</td>\n",
       "      <td>1575.890000</td>\n",
       "    </tr>\n",
       "    <tr>\n",
       "      <th>max</th>\n",
       "      <td>3614.000000</td>\n",
       "      <td>7847.000000</td>\n",
       "      <td>259657.300000</td>\n",
       "    </tr>\n",
       "  </tbody>\n",
       "</table>\n",
       "</div>"
      ],
      "text/plain": [
       "           recency    frequency  monetary_value\n",
       "count  3921.000000  3921.000000     3921.000000\n",
       "mean   3331.988778    90.371079     1863.910113\n",
       "std      99.537381   217.796155     7481.922217\n",
       "min    3240.000000     1.000000        0.000000\n",
       "25%    3258.000000    17.000000      300.040000\n",
       "50%    3290.000000    41.000000      651.820000\n",
       "75%    3382.000000    99.000000     1575.890000\n",
       "max    3614.000000  7847.000000   259657.300000"
      ]
     },
     "metadata": {},
     "output_type": "display_data"
    }
   ],
   "source": [
    "quantiles = rfmTable.describe()\n",
    "quantiles"
   ]
  },
  {
   "cell_type": "code",
   "execution_count": 72,
   "metadata": {
    "id": "LEmbVr3UPOHa"
   },
   "outputs": [],
   "source": [
    "## RFM scorer\n",
    "segmented_rfm = rfmTable.copy()\n",
    "\n",
    "def RScore(x, p, d):\n",
    "    if x <= d[p]['25%']:\n",
    "        return 1\n",
    "    elif x <= d[p]['50%']:\n",
    "        return 2\n",
    "    elif x <= d[p]['75%']: \n",
    "        return 3\n",
    "    else:\n",
    "        return 4\n",
    "    \n",
    "def FMScore(x,p,d):\n",
    "    if x <= d[p]['25%']:\n",
    "        return 4\n",
    "    elif x <= d[p]['50%']:\n",
    "        return 3\n",
    "    elif x <= d[p]['75%']: \n",
    "        return 2\n",
    "    else:\n",
    "        return 1"
   ]
  },
  {
   "cell_type": "markdown",
   "metadata": {
    "id": "OSAlFrJ-BhsZ"
   },
   "source": [
    "### Score Users"
   ]
  },
  {
   "cell_type": "code",
   "execution_count": 73,
   "metadata": {
    "colab": {
     "base_uri": "https://localhost:8080/",
     "height": 227
    },
    "id": "W1Fdd7Z091V_",
    "outputId": "a1a7fe89-e6ff-45a3-cb0b-ce92f995d63b"
   },
   "outputs": [
    {
     "data": {
      "application/vnd.jupyter.widget-view+json": {
       "model_id": "4bc53a1f2c0841d2a943d83a869e3b16"
      },
      "text/html": [
       "<div>\n",
       "<style scoped>\n",
       "    .dataframe tbody tr th:only-of-type {\n",
       "        vertical-align: middle;\n",
       "    }\n",
       "\n",
       "    .dataframe tbody tr th {\n",
       "        vertical-align: top;\n",
       "    }\n",
       "\n",
       "    .dataframe thead th {\n",
       "        text-align: right;\n",
       "    }\n",
       "</style>\n",
       "<table border=\"1\" class=\"dataframe\">\n",
       "  <thead>\n",
       "    <tr style=\"text-align: right;\">\n",
       "      <th></th>\n",
       "      <th>recency</th>\n",
       "      <th>frequency</th>\n",
       "      <th>monetary_value</th>\n",
       "      <th>r_quartile</th>\n",
       "      <th>f_quartile</th>\n",
       "      <th>m_quartile</th>\n",
       "      <th>RFMScore</th>\n",
       "    </tr>\n",
       "    <tr>\n",
       "      <th>CustomerID</th>\n",
       "      <th></th>\n",
       "      <th></th>\n",
       "      <th></th>\n",
       "      <th></th>\n",
       "      <th></th>\n",
       "      <th></th>\n",
       "      <th></th>\n",
       "    </tr>\n",
       "  </thead>\n",
       "  <tbody>\n",
       "    <tr>\n",
       "      <th>12346.0</th>\n",
       "      <td>3566</td>\n",
       "      <td>1</td>\n",
       "      <td>77183.60</td>\n",
       "      <td>4</td>\n",
       "      <td>4</td>\n",
       "      <td>1</td>\n",
       "      <td>441</td>\n",
       "    </tr>\n",
       "    <tr>\n",
       "      <th>12747.0</th>\n",
       "      <td>3242</td>\n",
       "      <td>103</td>\n",
       "      <td>4196.01</td>\n",
       "      <td>1</td>\n",
       "      <td>1</td>\n",
       "      <td>1</td>\n",
       "      <td>111</td>\n",
       "    </tr>\n",
       "    <tr>\n",
       "      <th>12748.0</th>\n",
       "      <td>3240</td>\n",
       "      <td>4596</td>\n",
       "      <td>33719.73</td>\n",
       "      <td>1</td>\n",
       "      <td>1</td>\n",
       "      <td>1</td>\n",
       "      <td>111</td>\n",
       "    </tr>\n",
       "    <tr>\n",
       "      <th>12749.0</th>\n",
       "      <td>3244</td>\n",
       "      <td>199</td>\n",
       "      <td>4090.88</td>\n",
       "      <td>1</td>\n",
       "      <td>1</td>\n",
       "      <td>1</td>\n",
       "      <td>111</td>\n",
       "    </tr>\n",
       "    <tr>\n",
       "      <th>12820.0</th>\n",
       "      <td>3243</td>\n",
       "      <td>59</td>\n",
       "      <td>942.34</td>\n",
       "      <td>1</td>\n",
       "      <td>2</td>\n",
       "      <td>2</td>\n",
       "      <td>122</td>\n",
       "    </tr>\n",
       "  </tbody>\n",
       "</table>\n",
       "</div>"
      ],
      "text/plain": [
       "            recency  frequency  monetary_value  r_quartile  f_quartile  \\\n",
       "CustomerID                                                               \n",
       "12346.0        3566          1        77183.60           4           4   \n",
       "12747.0        3242        103         4196.01           1           1   \n",
       "12748.0        3240       4596        33719.73           1           1   \n",
       "12749.0        3244        199         4090.88           1           1   \n",
       "12820.0        3243         59          942.34           1           2   \n",
       "\n",
       "            m_quartile  RFMScore  \n",
       "CustomerID                        \n",
       "12346.0              1       441  \n",
       "12747.0              1       111  \n",
       "12748.0              1       111  \n",
       "12749.0              1       111  \n",
       "12820.0              2       122  "
      ]
     },
     "metadata": {},
     "output_type": "display_data"
    }
   ],
   "source": [
    "### Score each user\n",
    "segmented_rfm['r_quartile'] = segmented_rfm['recency'].apply(RScore, args=('recency', quantiles,))\n",
    "segmented_rfm['f_quartile'] = segmented_rfm['frequency'].apply(FMScore, args=('frequency',quantiles,))\n",
    "segmented_rfm['m_quartile'] = segmented_rfm['monetary_value'].apply(FMScore, args=('monetary_value',quantiles,))\n",
    "\n",
    "### Merge Scores\n",
    "segmented_rfm['RFMScore'] = segmented_rfm.r_quartile.map(str) + segmented_rfm.f_quartile.map(str) + segmented_rfm.m_quartile.map(str)\n",
    "segmented_rfm['RFMScore'] = segmented_rfm['RFMScore'].map(int)\n",
    "\n",
    "segmented_rfm.head()"
   ]
  },
  {
   "cell_type": "code",
   "execution_count": 74,
   "metadata": {
    "id": "a4jo_kVcDunQ"
   },
   "outputs": [],
   "source": [
    "data.to_csv('some_data.csv')"
   ]
  },
  {
   "cell_type": "code",
   "execution_count": 75,
   "metadata": {
    "id": "Hf1JZuuNDM34"
   },
   "outputs": [],
   "source": [
    "\n",
    "segmented_rfm.to_csv('some_file_name.csv')\n",
    "\n",
    "# files.download('some_file_name.csv')"
   ]
  },
  {
   "cell_type": "markdown",
   "metadata": {
    "id": "-Q-gMWa_F5lI"
   },
   "source": [
    "## Identify Customer Segments"
   ]
  },
  {
   "cell_type": "markdown",
   "metadata": {
    "id": "mZz3G-V7B4EE"
   },
   "source": [
    "### Who are the top 10 of our best customers?  \n",
    "RFM Score of *111*."
   ]
  },
  {
   "cell_type": "code",
   "execution_count": 76,
   "metadata": {
    "colab": {
     "base_uri": "https://localhost:8080/",
     "height": 105
    },
    "id": "L0tHhKzeBWVZ",
    "outputId": "dd95e8c8-a4f8-4db1-d653-56d63f30e7d9"
   },
   "outputs": [
    {
     "data": {
      "text/plain": [
       "array([111, 112, 113, 114, 121, 122, 123, 124, 131, 132, 133, 134, 141,\n",
       "       142, 143, 144, 211, 212, 213, 221, 222, 223, 224, 231, 232, 233,\n",
       "       234, 241, 242, 243, 244, 311, 312, 313, 321, 322, 323, 324, 331,\n",
       "       332, 333, 334, 341, 342, 343, 344, 411, 412, 413, 421, 422, 423,\n",
       "       424, 431, 432, 433, 434, 441, 442, 443, 444], dtype=int64)"
      ]
     },
     "execution_count": 76,
     "metadata": {},
     "output_type": "execute_result"
    }
   ],
   "source": [
    "segmented_rfm['RFMScore'].sort_values().unique()"
   ]
  },
  {
   "cell_type": "code",
   "execution_count": 77,
   "metadata": {
    "colab": {
     "base_uri": "https://localhost:8080/",
     "height": 436
    },
    "id": "Oa2Aur7MBVI4",
    "outputId": "511642f9-dfa2-4406-ef82-63a0920122cf"
   },
   "outputs": [
    {
     "data": {
      "application/vnd.jupyter.widget-view+json": {
       "model_id": "fb10a896be834c29acd5e4b32c370055"
      },
      "text/html": [
       "<div>\n",
       "<style scoped>\n",
       "    .dataframe tbody tr th:only-of-type {\n",
       "        vertical-align: middle;\n",
       "    }\n",
       "\n",
       "    .dataframe tbody tr th {\n",
       "        vertical-align: top;\n",
       "    }\n",
       "\n",
       "    .dataframe thead th {\n",
       "        text-align: right;\n",
       "    }\n",
       "</style>\n",
       "<table border=\"1\" class=\"dataframe\">\n",
       "  <thead>\n",
       "    <tr style=\"text-align: right;\">\n",
       "      <th></th>\n",
       "      <th>recency</th>\n",
       "      <th>frequency</th>\n",
       "      <th>monetary_value</th>\n",
       "      <th>r_quartile</th>\n",
       "      <th>f_quartile</th>\n",
       "      <th>m_quartile</th>\n",
       "      <th>RFMScore</th>\n",
       "    </tr>\n",
       "    <tr>\n",
       "      <th>CustomerID</th>\n",
       "      <th></th>\n",
       "      <th></th>\n",
       "      <th></th>\n",
       "      <th></th>\n",
       "      <th></th>\n",
       "      <th></th>\n",
       "      <th></th>\n",
       "    </tr>\n",
       "  </thead>\n",
       "  <tbody>\n",
       "    <tr>\n",
       "      <th>12747.0</th>\n",
       "      <td>3242</td>\n",
       "      <td>103</td>\n",
       "      <td>4196.01</td>\n",
       "      <td>1</td>\n",
       "      <td>1</td>\n",
       "      <td>1</td>\n",
       "      <td>111</td>\n",
       "    </tr>\n",
       "    <tr>\n",
       "      <th>12748.0</th>\n",
       "      <td>3240</td>\n",
       "      <td>4596</td>\n",
       "      <td>33719.73</td>\n",
       "      <td>1</td>\n",
       "      <td>1</td>\n",
       "      <td>1</td>\n",
       "      <td>111</td>\n",
       "    </tr>\n",
       "    <tr>\n",
       "      <th>12749.0</th>\n",
       "      <td>3244</td>\n",
       "      <td>199</td>\n",
       "      <td>4090.88</td>\n",
       "      <td>1</td>\n",
       "      <td>1</td>\n",
       "      <td>1</td>\n",
       "      <td>111</td>\n",
       "    </tr>\n",
       "    <tr>\n",
       "      <th>12839.0</th>\n",
       "      <td>3242</td>\n",
       "      <td>314</td>\n",
       "      <td>5591.42</td>\n",
       "      <td>1</td>\n",
       "      <td>1</td>\n",
       "      <td>1</td>\n",
       "      <td>111</td>\n",
       "    </tr>\n",
       "    <tr>\n",
       "      <th>12841.0</th>\n",
       "      <td>3245</td>\n",
       "      <td>420</td>\n",
       "      <td>4022.35</td>\n",
       "      <td>1</td>\n",
       "      <td>1</td>\n",
       "      <td>1</td>\n",
       "      <td>111</td>\n",
       "    </tr>\n",
       "    <tr>\n",
       "      <th>...</th>\n",
       "      <td>...</td>\n",
       "      <td>...</td>\n",
       "      <td>...</td>\n",
       "      <td>...</td>\n",
       "      <td>...</td>\n",
       "      <td>...</td>\n",
       "      <td>...</td>\n",
       "    </tr>\n",
       "    <tr>\n",
       "      <th>18229.0</th>\n",
       "      <td>3252</td>\n",
       "      <td>164</td>\n",
       "      <td>7276.90</td>\n",
       "      <td>1</td>\n",
       "      <td>1</td>\n",
       "      <td>1</td>\n",
       "      <td>111</td>\n",
       "    </tr>\n",
       "    <tr>\n",
       "      <th>18241.0</th>\n",
       "      <td>3249</td>\n",
       "      <td>104</td>\n",
       "      <td>2073.09</td>\n",
       "      <td>1</td>\n",
       "      <td>1</td>\n",
       "      <td>1</td>\n",
       "      <td>111</td>\n",
       "    </tr>\n",
       "    <tr>\n",
       "      <th>18245.0</th>\n",
       "      <td>3247</td>\n",
       "      <td>175</td>\n",
       "      <td>2567.06</td>\n",
       "      <td>1</td>\n",
       "      <td>1</td>\n",
       "      <td>1</td>\n",
       "      <td>111</td>\n",
       "    </tr>\n",
       "    <tr>\n",
       "      <th>18272.0</th>\n",
       "      <td>3242</td>\n",
       "      <td>166</td>\n",
       "      <td>3078.58</td>\n",
       "      <td>1</td>\n",
       "      <td>1</td>\n",
       "      <td>1</td>\n",
       "      <td>111</td>\n",
       "    </tr>\n",
       "    <tr>\n",
       "      <th>18283.0</th>\n",
       "      <td>3243</td>\n",
       "      <td>756</td>\n",
       "      <td>2094.88</td>\n",
       "      <td>1</td>\n",
       "      <td>1</td>\n",
       "      <td>1</td>\n",
       "      <td>111</td>\n",
       "    </tr>\n",
       "  </tbody>\n",
       "</table>\n",
       "<p>420 rows × 7 columns</p>\n",
       "</div>"
      ],
      "text/plain": [
       "            recency  frequency  monetary_value  r_quartile  f_quartile  \\\n",
       "CustomerID                                                               \n",
       "12747.0        3242        103         4196.01           1           1   \n",
       "12748.0        3240       4596        33719.73           1           1   \n",
       "12749.0        3244        199         4090.88           1           1   \n",
       "12839.0        3242        314         5591.42           1           1   \n",
       "12841.0        3245        420         4022.35           1           1   \n",
       "...             ...        ...             ...         ...         ...   \n",
       "18229.0        3252        164         7276.90           1           1   \n",
       "18241.0        3249        104         2073.09           1           1   \n",
       "18245.0        3247        175         2567.06           1           1   \n",
       "18272.0        3242        166         3078.58           1           1   \n",
       "18283.0        3243        756         2094.88           1           1   \n",
       "\n",
       "            m_quartile  RFMScore  \n",
       "CustomerID                        \n",
       "12747.0              1       111  \n",
       "12748.0              1       111  \n",
       "12749.0              1       111  \n",
       "12839.0              1       111  \n",
       "12841.0              1       111  \n",
       "...                ...       ...  \n",
       "18229.0              1       111  \n",
       "18241.0              1       111  \n",
       "18245.0              1       111  \n",
       "18272.0              1       111  \n",
       "18283.0              1       111  \n",
       "\n",
       "[420 rows x 7 columns]"
      ]
     },
     "metadata": {},
     "output_type": "display_data"
    }
   ],
   "source": [
    "segmented_rfm[segmented_rfm['RFMScore']==111]"
   ]
  },
  {
   "cell_type": "markdown",
   "metadata": {
    "id": "wnuV-fHgC0i0"
   },
   "source": [
    "### Who are our Loyal Customers?  \n",
    "Frequency score of *1*."
   ]
  },
  {
   "cell_type": "code",
   "execution_count": 78,
   "metadata": {
    "colab": {
     "base_uri": "https://localhost:8080/",
     "height": 377
    },
    "id": "VzUc6a3kCrVL",
    "outputId": "f7df5036-0f08-4442-c550-2b4f826784b3"
   },
   "outputs": [
    {
     "data": {
      "application/vnd.jupyter.widget-view+json": {
       "model_id": "bdc436d27bfd4886bcdaefebd0cb526d"
      },
      "text/html": [
       "<div>\n",
       "<style scoped>\n",
       "    .dataframe tbody tr th:only-of-type {\n",
       "        vertical-align: middle;\n",
       "    }\n",
       "\n",
       "    .dataframe tbody tr th {\n",
       "        vertical-align: top;\n",
       "    }\n",
       "\n",
       "    .dataframe thead th {\n",
       "        text-align: right;\n",
       "    }\n",
       "</style>\n",
       "<table border=\"1\" class=\"dataframe\">\n",
       "  <thead>\n",
       "    <tr style=\"text-align: right;\">\n",
       "      <th></th>\n",
       "      <th>recency</th>\n",
       "      <th>frequency</th>\n",
       "      <th>monetary_value</th>\n",
       "      <th>r_quartile</th>\n",
       "      <th>f_quartile</th>\n",
       "      <th>m_quartile</th>\n",
       "      <th>RFMScore</th>\n",
       "    </tr>\n",
       "    <tr>\n",
       "      <th>CustomerID</th>\n",
       "      <th></th>\n",
       "      <th></th>\n",
       "      <th></th>\n",
       "      <th></th>\n",
       "      <th></th>\n",
       "      <th></th>\n",
       "      <th></th>\n",
       "    </tr>\n",
       "  </thead>\n",
       "  <tbody>\n",
       "    <tr>\n",
       "      <th>13637.0</th>\n",
       "      <td>3292</td>\n",
       "      <td>101</td>\n",
       "      <td>810.50</td>\n",
       "      <td>3</td>\n",
       "      <td>1</td>\n",
       "      <td>2</td>\n",
       "      <td>312</td>\n",
       "    </tr>\n",
       "    <tr>\n",
       "      <th>14584.0</th>\n",
       "      <td>3409</td>\n",
       "      <td>100</td>\n",
       "      <td>1042.26</td>\n",
       "      <td>4</td>\n",
       "      <td>1</td>\n",
       "      <td>2</td>\n",
       "      <td>412</td>\n",
       "    </tr>\n",
       "    <tr>\n",
       "      <th>15620.0</th>\n",
       "      <td>3296</td>\n",
       "      <td>100</td>\n",
       "      <td>1553.18</td>\n",
       "      <td>3</td>\n",
       "      <td>1</td>\n",
       "      <td>2</td>\n",
       "      <td>312</td>\n",
       "    </tr>\n",
       "    <tr>\n",
       "      <th>17614.0</th>\n",
       "      <td>3297</td>\n",
       "      <td>100</td>\n",
       "      <td>390.07</td>\n",
       "      <td>3</td>\n",
       "      <td>1</td>\n",
       "      <td>3</td>\n",
       "      <td>313</td>\n",
       "    </tr>\n",
       "    <tr>\n",
       "      <th>14217.0</th>\n",
       "      <td>3241</td>\n",
       "      <td>100</td>\n",
       "      <td>2004.98</td>\n",
       "      <td>1</td>\n",
       "      <td>1</td>\n",
       "      <td>1</td>\n",
       "      <td>111</td>\n",
       "    </tr>\n",
       "    <tr>\n",
       "      <th>17451.0</th>\n",
       "      <td>3241</td>\n",
       "      <td>100</td>\n",
       "      <td>1721.40</td>\n",
       "      <td>1</td>\n",
       "      <td>1</td>\n",
       "      <td>1</td>\n",
       "      <td>111</td>\n",
       "    </tr>\n",
       "    <tr>\n",
       "      <th>16031.0</th>\n",
       "      <td>3332</td>\n",
       "      <td>100</td>\n",
       "      <td>548.94</td>\n",
       "      <td>3</td>\n",
       "      <td>1</td>\n",
       "      <td>3</td>\n",
       "      <td>313</td>\n",
       "    </tr>\n",
       "    <tr>\n",
       "      <th>15113.0</th>\n",
       "      <td>3250</td>\n",
       "      <td>100</td>\n",
       "      <td>3609.33</td>\n",
       "      <td>1</td>\n",
       "      <td>1</td>\n",
       "      <td>1</td>\n",
       "      <td>111</td>\n",
       "    </tr>\n",
       "    <tr>\n",
       "      <th>15106.0</th>\n",
       "      <td>3258</td>\n",
       "      <td>100</td>\n",
       "      <td>1422.52</td>\n",
       "      <td>1</td>\n",
       "      <td>1</td>\n",
       "      <td>2</td>\n",
       "      <td>112</td>\n",
       "    </tr>\n",
       "    <tr>\n",
       "      <th>14292.0</th>\n",
       "      <td>3247</td>\n",
       "      <td>100</td>\n",
       "      <td>4871.93</td>\n",
       "      <td>1</td>\n",
       "      <td>1</td>\n",
       "      <td>1</td>\n",
       "      <td>111</td>\n",
       "    </tr>\n",
       "  </tbody>\n",
       "</table>\n",
       "</div>"
      ],
      "text/plain": [
       "            recency  frequency  monetary_value  r_quartile  f_quartile  \\\n",
       "CustomerID                                                               \n",
       "13637.0        3292        101          810.50           3           1   \n",
       "14584.0        3409        100         1042.26           4           1   \n",
       "15620.0        3296        100         1553.18           3           1   \n",
       "17614.0        3297        100          390.07           3           1   \n",
       "14217.0        3241        100         2004.98           1           1   \n",
       "17451.0        3241        100         1721.40           1           1   \n",
       "16031.0        3332        100          548.94           3           1   \n",
       "15113.0        3250        100         3609.33           1           1   \n",
       "15106.0        3258        100         1422.52           1           1   \n",
       "14292.0        3247        100         4871.93           1           1   \n",
       "\n",
       "            m_quartile  RFMScore  \n",
       "CustomerID                        \n",
       "13637.0              2       312  \n",
       "14584.0              2       412  \n",
       "15620.0              2       312  \n",
       "17614.0              3       313  \n",
       "14217.0              1       111  \n",
       "17451.0              1       111  \n",
       "16031.0              3       313  \n",
       "15113.0              1       111  \n",
       "15106.0              2       112  \n",
       "14292.0              1       111  "
      ]
     },
     "metadata": {},
     "output_type": "display_data"
    }
   ],
   "source": [
    "segmented_rfm[segmented_rfm['f_quartile']==1].sort_values('frequency', ascending=False).tail(10)"
   ]
  },
  {
   "cell_type": "markdown",
   "metadata": {
    "id": "IU7qJ9cNE4jN"
   },
   "source": [
    "### Who are our Big Spenders?  \n",
    "Monetary value score of *1*."
   ]
  },
  {
   "cell_type": "code",
   "execution_count": 79,
   "metadata": {
    "colab": {
     "base_uri": "https://localhost:8080/",
     "height": 377
    },
    "id": "n6IkARh3E--Z",
    "outputId": "6b93c461-8c3d-4b70-99f3-3dae4fbe6d49"
   },
   "outputs": [
    {
     "data": {
      "application/vnd.jupyter.widget-view+json": {
       "model_id": "cc2afd6ccb88436e970b7b4728283bbc"
      },
      "text/html": [
       "<div>\n",
       "<style scoped>\n",
       "    .dataframe tbody tr th:only-of-type {\n",
       "        vertical-align: middle;\n",
       "    }\n",
       "\n",
       "    .dataframe tbody tr th {\n",
       "        vertical-align: top;\n",
       "    }\n",
       "\n",
       "    .dataframe thead th {\n",
       "        text-align: right;\n",
       "    }\n",
       "</style>\n",
       "<table border=\"1\" class=\"dataframe\">\n",
       "  <thead>\n",
       "    <tr style=\"text-align: right;\">\n",
       "      <th></th>\n",
       "      <th>recency</th>\n",
       "      <th>frequency</th>\n",
       "      <th>monetary_value</th>\n",
       "      <th>r_quartile</th>\n",
       "      <th>f_quartile</th>\n",
       "      <th>m_quartile</th>\n",
       "      <th>RFMScore</th>\n",
       "    </tr>\n",
       "    <tr>\n",
       "      <th>CustomerID</th>\n",
       "      <th></th>\n",
       "      <th></th>\n",
       "      <th></th>\n",
       "      <th></th>\n",
       "      <th></th>\n",
       "      <th></th>\n",
       "      <th></th>\n",
       "    </tr>\n",
       "  </thead>\n",
       "  <tbody>\n",
       "    <tr>\n",
       "      <th>16496.0</th>\n",
       "      <td>3249</td>\n",
       "      <td>95</td>\n",
       "      <td>1599.52</td>\n",
       "      <td>1</td>\n",
       "      <td>2</td>\n",
       "      <td>1</td>\n",
       "      <td>121</td>\n",
       "    </tr>\n",
       "    <tr>\n",
       "      <th>13850.0</th>\n",
       "      <td>3369</td>\n",
       "      <td>93</td>\n",
       "      <td>1595.48</td>\n",
       "      <td>3</td>\n",
       "      <td>2</td>\n",
       "      <td>1</td>\n",
       "      <td>321</td>\n",
       "    </tr>\n",
       "    <tr>\n",
       "      <th>17837.0</th>\n",
       "      <td>3282</td>\n",
       "      <td>169</td>\n",
       "      <td>1593.38</td>\n",
       "      <td>2</td>\n",
       "      <td>1</td>\n",
       "      <td>1</td>\n",
       "      <td>211</td>\n",
       "    </tr>\n",
       "    <tr>\n",
       "      <th>16332.0</th>\n",
       "      <td>3268</td>\n",
       "      <td>153</td>\n",
       "      <td>1593.20</td>\n",
       "      <td>2</td>\n",
       "      <td>1</td>\n",
       "      <td>1</td>\n",
       "      <td>211</td>\n",
       "    </tr>\n",
       "    <tr>\n",
       "      <th>16676.0</th>\n",
       "      <td>3273</td>\n",
       "      <td>89</td>\n",
       "      <td>1592.12</td>\n",
       "      <td>2</td>\n",
       "      <td>2</td>\n",
       "      <td>1</td>\n",
       "      <td>221</td>\n",
       "    </tr>\n",
       "    <tr>\n",
       "      <th>14970.0</th>\n",
       "      <td>3308</td>\n",
       "      <td>34</td>\n",
       "      <td>1592.06</td>\n",
       "      <td>3</td>\n",
       "      <td>3</td>\n",
       "      <td>1</td>\n",
       "      <td>331</td>\n",
       "    </tr>\n",
       "    <tr>\n",
       "      <th>15611.0</th>\n",
       "      <td>3249</td>\n",
       "      <td>43</td>\n",
       "      <td>1591.45</td>\n",
       "      <td>1</td>\n",
       "      <td>2</td>\n",
       "      <td>1</td>\n",
       "      <td>121</td>\n",
       "    </tr>\n",
       "    <tr>\n",
       "      <th>18178.0</th>\n",
       "      <td>3369</td>\n",
       "      <td>97</td>\n",
       "      <td>1590.81</td>\n",
       "      <td>3</td>\n",
       "      <td>2</td>\n",
       "      <td>1</td>\n",
       "      <td>321</td>\n",
       "    </tr>\n",
       "    <tr>\n",
       "      <th>15532.0</th>\n",
       "      <td>3265</td>\n",
       "      <td>256</td>\n",
       "      <td>1580.93</td>\n",
       "      <td>2</td>\n",
       "      <td>1</td>\n",
       "      <td>1</td>\n",
       "      <td>211</td>\n",
       "    </tr>\n",
       "    <tr>\n",
       "      <th>16889.0</th>\n",
       "      <td>3435</td>\n",
       "      <td>135</td>\n",
       "      <td>1578.67</td>\n",
       "      <td>4</td>\n",
       "      <td>1</td>\n",
       "      <td>1</td>\n",
       "      <td>411</td>\n",
       "    </tr>\n",
       "  </tbody>\n",
       "</table>\n",
       "</div>"
      ],
      "text/plain": [
       "            recency  frequency  monetary_value  r_quartile  f_quartile  \\\n",
       "CustomerID                                                               \n",
       "16496.0        3249         95         1599.52           1           2   \n",
       "13850.0        3369         93         1595.48           3           2   \n",
       "17837.0        3282        169         1593.38           2           1   \n",
       "16332.0        3268        153         1593.20           2           1   \n",
       "16676.0        3273         89         1592.12           2           2   \n",
       "14970.0        3308         34         1592.06           3           3   \n",
       "15611.0        3249         43         1591.45           1           2   \n",
       "18178.0        3369         97         1590.81           3           2   \n",
       "15532.0        3265        256         1580.93           2           1   \n",
       "16889.0        3435        135         1578.67           4           1   \n",
       "\n",
       "            m_quartile  RFMScore  \n",
       "CustomerID                        \n",
       "16496.0              1       121  \n",
       "13850.0              1       321  \n",
       "17837.0              1       211  \n",
       "16332.0              1       211  \n",
       "16676.0              1       221  \n",
       "14970.0              1       331  \n",
       "15611.0              1       121  \n",
       "18178.0              1       321  \n",
       "15532.0              1       211  \n",
       "16889.0              1       411  "
      ]
     },
     "metadata": {},
     "output_type": "display_data"
    }
   ],
   "source": [
    "segmented_rfm[segmented_rfm['m_quartile']==1].sort_values('monetary_value', ascending=False).tail(10)"
   ]
  },
  {
   "cell_type": "markdown",
   "metadata": {
    "id": "rjqjlKfbFLLx"
   },
   "source": [
    "### Who are almost lost?  \n",
    "Haven't purchased for some time but spent a lot and transacted a lot.  \n",
    "RFM Score of *311*."
   ]
  },
  {
   "cell_type": "code",
   "execution_count": 80,
   "metadata": {
    "colab": {
     "base_uri": "https://localhost:8080/",
     "height": 377
    },
    "id": "dWAkTg88FRZV",
    "outputId": "ff8ad0af-baf5-4bbc-fece-bc3ce8289b13"
   },
   "outputs": [
    {
     "data": {
      "application/vnd.jupyter.widget-view+json": {
       "model_id": "88f8d40dc22d49a381ce3b1ca60c56af"
      },
      "text/html": [
       "<div>\n",
       "<style scoped>\n",
       "    .dataframe tbody tr th:only-of-type {\n",
       "        vertical-align: middle;\n",
       "    }\n",
       "\n",
       "    .dataframe tbody tr th {\n",
       "        vertical-align: top;\n",
       "    }\n",
       "\n",
       "    .dataframe thead th {\n",
       "        text-align: right;\n",
       "    }\n",
       "</style>\n",
       "<table border=\"1\" class=\"dataframe\">\n",
       "  <thead>\n",
       "    <tr style=\"text-align: right;\">\n",
       "      <th></th>\n",
       "      <th>recency</th>\n",
       "      <th>frequency</th>\n",
       "      <th>monetary_value</th>\n",
       "      <th>r_quartile</th>\n",
       "      <th>f_quartile</th>\n",
       "      <th>m_quartile</th>\n",
       "      <th>RFMScore</th>\n",
       "    </tr>\n",
       "    <tr>\n",
       "      <th>CustomerID</th>\n",
       "      <th></th>\n",
       "      <th></th>\n",
       "      <th></th>\n",
       "      <th></th>\n",
       "      <th></th>\n",
       "      <th></th>\n",
       "      <th></th>\n",
       "    </tr>\n",
       "  </thead>\n",
       "  <tbody>\n",
       "    <tr>\n",
       "      <th>16180.0</th>\n",
       "      <td>3340</td>\n",
       "      <td>162</td>\n",
       "      <td>10254.18</td>\n",
       "      <td>3</td>\n",
       "      <td>1</td>\n",
       "      <td>1</td>\n",
       "      <td>311</td>\n",
       "    </tr>\n",
       "    <tr>\n",
       "      <th>14952.0</th>\n",
       "      <td>3300</td>\n",
       "      <td>138</td>\n",
       "      <td>8099.49</td>\n",
       "      <td>3</td>\n",
       "      <td>1</td>\n",
       "      <td>1</td>\n",
       "      <td>311</td>\n",
       "    </tr>\n",
       "    <tr>\n",
       "      <th>16745.0</th>\n",
       "      <td>3326</td>\n",
       "      <td>357</td>\n",
       "      <td>7194.30</td>\n",
       "      <td>3</td>\n",
       "      <td>1</td>\n",
       "      <td>1</td>\n",
       "      <td>311</td>\n",
       "    </tr>\n",
       "    <tr>\n",
       "      <th>16652.0</th>\n",
       "      <td>3299</td>\n",
       "      <td>118</td>\n",
       "      <td>6773.97</td>\n",
       "      <td>3</td>\n",
       "      <td>1</td>\n",
       "      <td>1</td>\n",
       "      <td>311</td>\n",
       "    </tr>\n",
       "    <tr>\n",
       "      <th>17509.0</th>\n",
       "      <td>3298</td>\n",
       "      <td>366</td>\n",
       "      <td>6115.14</td>\n",
       "      <td>3</td>\n",
       "      <td>1</td>\n",
       "      <td>1</td>\n",
       "      <td>311</td>\n",
       "    </tr>\n",
       "    <tr>\n",
       "      <th>15301.0</th>\n",
       "      <td>3291</td>\n",
       "      <td>243</td>\n",
       "      <td>5070.35</td>\n",
       "      <td>3</td>\n",
       "      <td>1</td>\n",
       "      <td>1</td>\n",
       "      <td>311</td>\n",
       "    </tr>\n",
       "    <tr>\n",
       "      <th>16984.0</th>\n",
       "      <td>3328</td>\n",
       "      <td>407</td>\n",
       "      <td>4481.35</td>\n",
       "      <td>3</td>\n",
       "      <td>1</td>\n",
       "      <td>1</td>\n",
       "      <td>311</td>\n",
       "    </tr>\n",
       "    <tr>\n",
       "      <th>15874.0</th>\n",
       "      <td>3303</td>\n",
       "      <td>120</td>\n",
       "      <td>4405.88</td>\n",
       "      <td>3</td>\n",
       "      <td>1</td>\n",
       "      <td>1</td>\n",
       "      <td>311</td>\n",
       "    </tr>\n",
       "    <tr>\n",
       "      <th>13555.0</th>\n",
       "      <td>3313</td>\n",
       "      <td>136</td>\n",
       "      <td>4149.28</td>\n",
       "      <td>3</td>\n",
       "      <td>1</td>\n",
       "      <td>1</td>\n",
       "      <td>311</td>\n",
       "    </tr>\n",
       "    <tr>\n",
       "      <th>15416.0</th>\n",
       "      <td>3305</td>\n",
       "      <td>192</td>\n",
       "      <td>3984.32</td>\n",
       "      <td>3</td>\n",
       "      <td>1</td>\n",
       "      <td>1</td>\n",
       "      <td>311</td>\n",
       "    </tr>\n",
       "  </tbody>\n",
       "</table>\n",
       "</div>"
      ],
      "text/plain": [
       "            recency  frequency  monetary_value  r_quartile  f_quartile  \\\n",
       "CustomerID                                                               \n",
       "16180.0        3340        162        10254.18           3           1   \n",
       "14952.0        3300        138         8099.49           3           1   \n",
       "16745.0        3326        357         7194.30           3           1   \n",
       "16652.0        3299        118         6773.97           3           1   \n",
       "17509.0        3298        366         6115.14           3           1   \n",
       "15301.0        3291        243         5070.35           3           1   \n",
       "16984.0        3328        407         4481.35           3           1   \n",
       "15874.0        3303        120         4405.88           3           1   \n",
       "13555.0        3313        136         4149.28           3           1   \n",
       "15416.0        3305        192         3984.32           3           1   \n",
       "\n",
       "            m_quartile  RFMScore  \n",
       "CustomerID                        \n",
       "16180.0              1       311  \n",
       "14952.0              1       311  \n",
       "16745.0              1       311  \n",
       "16652.0              1       311  \n",
       "17509.0              1       311  \n",
       "15301.0              1       311  \n",
       "16984.0              1       311  \n",
       "15874.0              1       311  \n",
       "13555.0              1       311  \n",
       "15416.0              1       311  "
      ]
     },
     "metadata": {},
     "output_type": "display_data"
    }
   ],
   "source": [
    "segmented_rfm[segmented_rfm['RFMScore']==311].sort_values('monetary_value', ascending=False).head(10)"
   ]
  },
  {
   "cell_type": "markdown",
   "metadata": {
    "id": "duhxO5czFf3w"
   },
   "source": [
    "### Who are lost?  \n",
    "Haven't purchased in the longest time but spent a lot and transacted a lot.  \n",
    "RFM score of *411*."
   ]
  },
  {
   "cell_type": "code",
   "execution_count": 81,
   "metadata": {
    "colab": {
     "base_uri": "https://localhost:8080/",
     "height": 377
    },
    "id": "zdibr3Y-FfbC",
    "outputId": "7b5ef3b7-a8d4-418c-b256-b00cf9cf1dc3"
   },
   "outputs": [
    {
     "data": {
      "application/vnd.jupyter.widget-view+json": {
       "model_id": "4ce30fc4a7d5400c8b084a0b55a11406"
      },
      "text/html": [
       "<div>\n",
       "<style scoped>\n",
       "    .dataframe tbody tr th:only-of-type {\n",
       "        vertical-align: middle;\n",
       "    }\n",
       "\n",
       "    .dataframe tbody tr th {\n",
       "        vertical-align: top;\n",
       "    }\n",
       "\n",
       "    .dataframe thead th {\n",
       "        text-align: right;\n",
       "    }\n",
       "</style>\n",
       "<table border=\"1\" class=\"dataframe\">\n",
       "  <thead>\n",
       "    <tr style=\"text-align: right;\">\n",
       "      <th></th>\n",
       "      <th>recency</th>\n",
       "      <th>frequency</th>\n",
       "      <th>monetary_value</th>\n",
       "      <th>r_quartile</th>\n",
       "      <th>f_quartile</th>\n",
       "      <th>m_quartile</th>\n",
       "      <th>RFMScore</th>\n",
       "    </tr>\n",
       "    <tr>\n",
       "      <th>CustomerID</th>\n",
       "      <th></th>\n",
       "      <th></th>\n",
       "      <th></th>\n",
       "      <th></th>\n",
       "      <th></th>\n",
       "      <th></th>\n",
       "      <th></th>\n",
       "    </tr>\n",
       "  </thead>\n",
       "  <tbody>\n",
       "    <tr>\n",
       "      <th>13093.0</th>\n",
       "      <td>3515</td>\n",
       "      <td>159</td>\n",
       "      <td>7832.470</td>\n",
       "      <td>4</td>\n",
       "      <td>1</td>\n",
       "      <td>1</td>\n",
       "      <td>411</td>\n",
       "    </tr>\n",
       "    <tr>\n",
       "      <th>17850.0</th>\n",
       "      <td>3612</td>\n",
       "      <td>297</td>\n",
       "      <td>5391.210</td>\n",
       "      <td>4</td>\n",
       "      <td>1</td>\n",
       "      <td>1</td>\n",
       "      <td>411</td>\n",
       "    </tr>\n",
       "    <tr>\n",
       "      <th>15808.0</th>\n",
       "      <td>3546</td>\n",
       "      <td>208</td>\n",
       "      <td>3734.970</td>\n",
       "      <td>4</td>\n",
       "      <td>1</td>\n",
       "      <td>1</td>\n",
       "      <td>411</td>\n",
       "    </tr>\n",
       "    <tr>\n",
       "      <th>15379.0</th>\n",
       "      <td>3409</td>\n",
       "      <td>194</td>\n",
       "      <td>3703.290</td>\n",
       "      <td>4</td>\n",
       "      <td>1</td>\n",
       "      <td>1</td>\n",
       "      <td>411</td>\n",
       "    </tr>\n",
       "    <tr>\n",
       "      <th>13952.0</th>\n",
       "      <td>3458</td>\n",
       "      <td>137</td>\n",
       "      <td>3251.071</td>\n",
       "      <td>4</td>\n",
       "      <td>1</td>\n",
       "      <td>1</td>\n",
       "      <td>411</td>\n",
       "    </tr>\n",
       "    <tr>\n",
       "      <th>17504.0</th>\n",
       "      <td>3446</td>\n",
       "      <td>127</td>\n",
       "      <td>2997.030</td>\n",
       "      <td>4</td>\n",
       "      <td>1</td>\n",
       "      <td>1</td>\n",
       "      <td>411</td>\n",
       "    </tr>\n",
       "    <tr>\n",
       "      <th>12840.0</th>\n",
       "      <td>3384</td>\n",
       "      <td>113</td>\n",
       "      <td>2726.770</td>\n",
       "      <td>4</td>\n",
       "      <td>1</td>\n",
       "      <td>1</td>\n",
       "      <td>411</td>\n",
       "    </tr>\n",
       "    <tr>\n",
       "      <th>18260.0</th>\n",
       "      <td>3412</td>\n",
       "      <td>134</td>\n",
       "      <td>2643.200</td>\n",
       "      <td>4</td>\n",
       "      <td>1</td>\n",
       "      <td>1</td>\n",
       "      <td>411</td>\n",
       "    </tr>\n",
       "    <tr>\n",
       "      <th>16919.0</th>\n",
       "      <td>3396</td>\n",
       "      <td>327</td>\n",
       "      <td>2596.450</td>\n",
       "      <td>4</td>\n",
       "      <td>1</td>\n",
       "      <td>1</td>\n",
       "      <td>411</td>\n",
       "    </tr>\n",
       "    <tr>\n",
       "      <th>15235.0</th>\n",
       "      <td>3458</td>\n",
       "      <td>143</td>\n",
       "      <td>2247.510</td>\n",
       "      <td>4</td>\n",
       "      <td>1</td>\n",
       "      <td>1</td>\n",
       "      <td>411</td>\n",
       "    </tr>\n",
       "  </tbody>\n",
       "</table>\n",
       "</div>"
      ],
      "text/plain": [
       "            recency  frequency  monetary_value  r_quartile  f_quartile  \\\n",
       "CustomerID                                                               \n",
       "13093.0        3515        159        7832.470           4           1   \n",
       "17850.0        3612        297        5391.210           4           1   \n",
       "15808.0        3546        208        3734.970           4           1   \n",
       "15379.0        3409        194        3703.290           4           1   \n",
       "13952.0        3458        137        3251.071           4           1   \n",
       "17504.0        3446        127        2997.030           4           1   \n",
       "12840.0        3384        113        2726.770           4           1   \n",
       "18260.0        3412        134        2643.200           4           1   \n",
       "16919.0        3396        327        2596.450           4           1   \n",
       "15235.0        3458        143        2247.510           4           1   \n",
       "\n",
       "            m_quartile  RFMScore  \n",
       "CustomerID                        \n",
       "13093.0              1       411  \n",
       "17850.0              1       411  \n",
       "15808.0              1       411  \n",
       "15379.0              1       411  \n",
       "13952.0              1       411  \n",
       "17504.0              1       411  \n",
       "12840.0              1       411  \n",
       "18260.0              1       411  \n",
       "16919.0              1       411  \n",
       "15235.0              1       411  "
      ]
     },
     "metadata": {},
     "output_type": "display_data"
    }
   ],
   "source": [
    "segmented_rfm[segmented_rfm['RFMScore']==411].sort_values('monetary_value', ascending=False).head(10)"
   ]
  },
  {
   "cell_type": "markdown",
   "metadata": {
    "id": "dCS9cDrVCAK7"
   },
   "source": [
    "### Who are the bottom 10 worst customers?  \n",
    "RFM score of *444*."
   ]
  },
  {
   "cell_type": "code",
   "execution_count": 82,
   "metadata": {
    "colab": {
     "base_uri": "https://localhost:8080/",
     "height": 377
    },
    "id": "1BBHq-jcB9Kl",
    "outputId": "f135c02a-ff3e-4d07-8384-ce65d7d3179a"
   },
   "outputs": [
    {
     "data": {
      "application/vnd.jupyter.widget-view+json": {
       "model_id": "47fc2123bb1546459dc783abb198160c"
      },
      "text/html": [
       "<div>\n",
       "<style scoped>\n",
       "    .dataframe tbody tr th:only-of-type {\n",
       "        vertical-align: middle;\n",
       "    }\n",
       "\n",
       "    .dataframe tbody tr th {\n",
       "        vertical-align: top;\n",
       "    }\n",
       "\n",
       "    .dataframe thead th {\n",
       "        text-align: right;\n",
       "    }\n",
       "</style>\n",
       "<table border=\"1\" class=\"dataframe\">\n",
       "  <thead>\n",
       "    <tr style=\"text-align: right;\">\n",
       "      <th></th>\n",
       "      <th>recency</th>\n",
       "      <th>frequency</th>\n",
       "      <th>monetary_value</th>\n",
       "      <th>r_quartile</th>\n",
       "      <th>f_quartile</th>\n",
       "      <th>m_quartile</th>\n",
       "      <th>RFMScore</th>\n",
       "    </tr>\n",
       "    <tr>\n",
       "      <th>CustomerID</th>\n",
       "      <th></th>\n",
       "      <th></th>\n",
       "      <th></th>\n",
       "      <th></th>\n",
       "      <th></th>\n",
       "      <th></th>\n",
       "      <th></th>\n",
       "    </tr>\n",
       "  </thead>\n",
       "  <tbody>\n",
       "    <tr>\n",
       "      <th>15940.0</th>\n",
       "      <td>3551</td>\n",
       "      <td>1</td>\n",
       "      <td>35.80</td>\n",
       "      <td>4</td>\n",
       "      <td>4</td>\n",
       "      <td>4</td>\n",
       "      <td>444</td>\n",
       "    </tr>\n",
       "    <tr>\n",
       "      <th>14576.0</th>\n",
       "      <td>3612</td>\n",
       "      <td>1</td>\n",
       "      <td>35.40</td>\n",
       "      <td>4</td>\n",
       "      <td>4</td>\n",
       "      <td>4</td>\n",
       "      <td>444</td>\n",
       "    </tr>\n",
       "    <tr>\n",
       "      <th>16765.0</th>\n",
       "      <td>3534</td>\n",
       "      <td>1</td>\n",
       "      <td>34.00</td>\n",
       "      <td>4</td>\n",
       "      <td>4</td>\n",
       "      <td>4</td>\n",
       "      <td>444</td>\n",
       "    </tr>\n",
       "    <tr>\n",
       "      <th>17408.0</th>\n",
       "      <td>3403</td>\n",
       "      <td>2</td>\n",
       "      <td>32.65</td>\n",
       "      <td>4</td>\n",
       "      <td>4</td>\n",
       "      <td>4</td>\n",
       "      <td>444</td>\n",
       "    </tr>\n",
       "    <tr>\n",
       "      <th>13120.0</th>\n",
       "      <td>3479</td>\n",
       "      <td>1</td>\n",
       "      <td>30.60</td>\n",
       "      <td>4</td>\n",
       "      <td>4</td>\n",
       "      <td>4</td>\n",
       "      <td>444</td>\n",
       "    </tr>\n",
       "    <tr>\n",
       "      <th>17102.0</th>\n",
       "      <td>3502</td>\n",
       "      <td>1</td>\n",
       "      <td>25.50</td>\n",
       "      <td>4</td>\n",
       "      <td>4</td>\n",
       "      <td>4</td>\n",
       "      <td>444</td>\n",
       "    </tr>\n",
       "    <tr>\n",
       "      <th>15823.0</th>\n",
       "      <td>3612</td>\n",
       "      <td>1</td>\n",
       "      <td>15.00</td>\n",
       "      <td>4</td>\n",
       "      <td>4</td>\n",
       "      <td>4</td>\n",
       "      <td>444</td>\n",
       "    </tr>\n",
       "    <tr>\n",
       "      <th>17763.0</th>\n",
       "      <td>3503</td>\n",
       "      <td>1</td>\n",
       "      <td>15.00</td>\n",
       "      <td>4</td>\n",
       "      <td>4</td>\n",
       "      <td>4</td>\n",
       "      <td>444</td>\n",
       "    </tr>\n",
       "    <tr>\n",
       "      <th>17956.0</th>\n",
       "      <td>3489</td>\n",
       "      <td>1</td>\n",
       "      <td>12.75</td>\n",
       "      <td>4</td>\n",
       "      <td>4</td>\n",
       "      <td>4</td>\n",
       "      <td>444</td>\n",
       "    </tr>\n",
       "    <tr>\n",
       "      <th>16738.0</th>\n",
       "      <td>3538</td>\n",
       "      <td>1</td>\n",
       "      <td>3.75</td>\n",
       "      <td>4</td>\n",
       "      <td>4</td>\n",
       "      <td>4</td>\n",
       "      <td>444</td>\n",
       "    </tr>\n",
       "  </tbody>\n",
       "</table>\n",
       "</div>"
      ],
      "text/plain": [
       "            recency  frequency  monetary_value  r_quartile  f_quartile  \\\n",
       "CustomerID                                                               \n",
       "15940.0        3551          1           35.80           4           4   \n",
       "14576.0        3612          1           35.40           4           4   \n",
       "16765.0        3534          1           34.00           4           4   \n",
       "17408.0        3403          2           32.65           4           4   \n",
       "13120.0        3479          1           30.60           4           4   \n",
       "17102.0        3502          1           25.50           4           4   \n",
       "15823.0        3612          1           15.00           4           4   \n",
       "17763.0        3503          1           15.00           4           4   \n",
       "17956.0        3489          1           12.75           4           4   \n",
       "16738.0        3538          1            3.75           4           4   \n",
       "\n",
       "            m_quartile  RFMScore  \n",
       "CustomerID                        \n",
       "15940.0              4       444  \n",
       "14576.0              4       444  \n",
       "16765.0              4       444  \n",
       "17408.0              4       444  \n",
       "13120.0              4       444  \n",
       "17102.0              4       444  \n",
       "15823.0              4       444  \n",
       "17763.0              4       444  \n",
       "17956.0              4       444  \n",
       "16738.0              4       444  "
      ]
     },
     "metadata": {},
     "output_type": "display_data"
    }
   ],
   "source": [
    "segmented_rfm[segmented_rfm['RFMScore']==444].sort_values('monetary_value', ascending=False).tail(10)"
   ]
  },
  {
   "cell_type": "markdown",
   "metadata": {
    "id": "mIwD41BGKF-p"
   },
   "source": [
    "# Exercise: Do Customer Segmentation on a Different Dataset  \n",
    "[link](https://query.data.world/s/oavhrdt2a4dhhg4agcbff6h3llnqsw) to dataset."
   ]
  },
  {
   "cell_type": "markdown",
   "metadata": {},
   "source": [
    "## Next Topic : [Market Basket analysis](https://github.com/titaofdata/Week-10-Models-Used-in-Industries/blob/main/IntroMarketBasketAnalysis.ipynb)"
   ]
  }
 ],
 "metadata": {
  "colab": {
   "collapsed_sections": [],
   "include_colab_link": true,
   "name": "IntroCustomerSegmentation-RFM.ipynb",
   "provenance": [],
   "toc_visible": true
  },
  "kernelspec": {
   "display_name": "Python 3",
   "language": "python",
   "name": "python3"
  },
  "language_info": {
   "codemirror_mode": {
    "name": "ipython",
    "version": 3
   },
   "file_extension": ".py",
   "mimetype": "text/x-python",
   "name": "python",
   "nbconvert_exporter": "python",
   "pygments_lexer": "ipython3",
   "version": "3.7.6"
  }
 },
 "nbformat": 4,
 "nbformat_minor": 1
}

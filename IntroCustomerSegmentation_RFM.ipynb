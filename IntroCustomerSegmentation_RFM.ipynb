{
  "nbformat": 4,
  "nbformat_minor": 0,
  "metadata": {
    "colab": {
      "name": "IntroCustomerSegmentation-RFM.ipynb",
      "provenance": [],
      "collapsed_sections": [],
      "toc_visible": true,
      "include_colab_link": true
    },
    "kernelspec": {
      "name": "python3",
      "display_name": "Python 3"
    }
  },
  "cells": [
    {
      "cell_type": "markdown",
      "metadata": {
        "id": "view-in-github",
        "colab_type": "text"
      },
      "source": [
        "<a href=\"https://colab.research.google.com/github/titaofdata/Week-10-Models-Used-in-Industries/blob/main/IntroCustomerSegmentation_RFM.ipynb\" target=\"_parent\"><img src=\"https://colab.research.google.com/assets/colab-badge.svg\" alt=\"Open In Colab\"/></a>"
      ]
    },
    {
      "cell_type": "markdown",
      "metadata": {
        "id": "gcjimI-l826T"
      },
      "source": [
        "# Customer Segmentation"
      ]
    },
    {
      "cell_type": "markdown",
      "metadata": {
        "id": "oENhLmDh9ANU"
      },
      "source": [
        "When it comes to finding out who your best customers are, the old RFM matrix principle is the best. \n",
        "\n",
        "RFM stands for *Recency*, *Frequency* and *Monetary.*   \n",
        "\n",
        "It is a customer segmentation technique that uses past purchase behavior to divide customers into groups.  \n",
        "\n",
        "\n",
        "### RFM Score Calculations  \n",
        "\n",
        "**RECENCY (R)**: Days since last purchase  \n",
        "**FREQUENCY (F)**: Total number of purchases  \n",
        "**MONETARY VALUE (M)**: Total money this customer spent  \n",
        "\n",
        "It is based on the marketing axiom that **80% of your business comes from 20% of your customers**.\n",
        "\n",
        "RFM helps to identify customers who are more likely to respond to promotions by segmenting them into various categories.\n"
      ]
    },
    {
      "cell_type": "markdown",
      "metadata": {
        "id": "sucq46l6Md0J"
      },
      "source": [
        "### Import Packages"
      ]
    },
    {
      "cell_type": "code",
      "metadata": {
        "id": "Ta3PKLpXMU5x"
      },
      "source": [
        "# !pip install xlrd\n",
        "# import package\n",
        "import pandas as pd\n",
        "import datetime\n",
        "\n",
        "# suppress error warnings\n",
        "import warnings\n",
        "warnings.filterwarnings('ignore')\n",
        "\n",
        "from google.colab import files"
      ],
      "execution_count": null,
      "outputs": []
    },
    {
      "cell_type": "markdown",
      "metadata": {
        "id": "wZFNlIWQMb9k"
      },
      "source": [
        "### Read Data"
      ]
    },
    {
      "cell_type": "code",
      "metadata": {
        "id": "idYRvIIK8tbk",
        "outputId": "10a94a81-7e9e-4a76-904b-47be68eef5b2",
        "colab": {
          "base_uri": "https://localhost:8080/",
          "height": 197
        }
      },
      "source": [
        "# load dataset\n",
        "data = pd.read_excel('http://archive.ics.uci.edu/ml/machine-learning-databases/00352/Online%20Retail.xlsx')\n",
        "#data = pd.read_excel('Online Retail.xlsx')\n",
        "\n",
        "# Define Sales Column\n",
        "data['Sales'] = data['Quantity'] * data['UnitPrice']\n",
        "data.head()\n"
      ],
      "execution_count": null,
      "outputs": [
        {
          "output_type": "execute_result",
          "data": {
            "text/html": [
              "<div>\n",
              "<style scoped>\n",
              "    .dataframe tbody tr th:only-of-type {\n",
              "        vertical-align: middle;\n",
              "    }\n",
              "\n",
              "    .dataframe tbody tr th {\n",
              "        vertical-align: top;\n",
              "    }\n",
              "\n",
              "    .dataframe thead th {\n",
              "        text-align: right;\n",
              "    }\n",
              "</style>\n",
              "<table border=\"1\" class=\"dataframe\">\n",
              "  <thead>\n",
              "    <tr style=\"text-align: right;\">\n",
              "      <th></th>\n",
              "      <th>InvoiceNo</th>\n",
              "      <th>StockCode</th>\n",
              "      <th>Description</th>\n",
              "      <th>Quantity</th>\n",
              "      <th>InvoiceDate</th>\n",
              "      <th>UnitPrice</th>\n",
              "      <th>CustomerID</th>\n",
              "      <th>Country</th>\n",
              "      <th>Sales</th>\n",
              "    </tr>\n",
              "  </thead>\n",
              "  <tbody>\n",
              "    <tr>\n",
              "      <th>0</th>\n",
              "      <td>536365</td>\n",
              "      <td>85123A</td>\n",
              "      <td>WHITE HANGING HEART T-LIGHT HOLDER</td>\n",
              "      <td>6</td>\n",
              "      <td>2010-12-01 08:26:00</td>\n",
              "      <td>2.55</td>\n",
              "      <td>17850.0</td>\n",
              "      <td>United Kingdom</td>\n",
              "      <td>15.30</td>\n",
              "    </tr>\n",
              "    <tr>\n",
              "      <th>1</th>\n",
              "      <td>536365</td>\n",
              "      <td>71053</td>\n",
              "      <td>WHITE METAL LANTERN</td>\n",
              "      <td>6</td>\n",
              "      <td>2010-12-01 08:26:00</td>\n",
              "      <td>3.39</td>\n",
              "      <td>17850.0</td>\n",
              "      <td>United Kingdom</td>\n",
              "      <td>20.34</td>\n",
              "    </tr>\n",
              "    <tr>\n",
              "      <th>2</th>\n",
              "      <td>536365</td>\n",
              "      <td>84406B</td>\n",
              "      <td>CREAM CUPID HEARTS COAT HANGER</td>\n",
              "      <td>8</td>\n",
              "      <td>2010-12-01 08:26:00</td>\n",
              "      <td>2.75</td>\n",
              "      <td>17850.0</td>\n",
              "      <td>United Kingdom</td>\n",
              "      <td>22.00</td>\n",
              "    </tr>\n",
              "    <tr>\n",
              "      <th>3</th>\n",
              "      <td>536365</td>\n",
              "      <td>84029G</td>\n",
              "      <td>KNITTED UNION FLAG HOT WATER BOTTLE</td>\n",
              "      <td>6</td>\n",
              "      <td>2010-12-01 08:26:00</td>\n",
              "      <td>3.39</td>\n",
              "      <td>17850.0</td>\n",
              "      <td>United Kingdom</td>\n",
              "      <td>20.34</td>\n",
              "    </tr>\n",
              "    <tr>\n",
              "      <th>4</th>\n",
              "      <td>536365</td>\n",
              "      <td>84029E</td>\n",
              "      <td>RED WOOLLY HOTTIE WHITE HEART.</td>\n",
              "      <td>6</td>\n",
              "      <td>2010-12-01 08:26:00</td>\n",
              "      <td>3.39</td>\n",
              "      <td>17850.0</td>\n",
              "      <td>United Kingdom</td>\n",
              "      <td>20.34</td>\n",
              "    </tr>\n",
              "  </tbody>\n",
              "</table>\n",
              "</div>"
            ],
            "text/plain": [
              "  InvoiceNo StockCode  ...         Country  Sales\n",
              "0    536365    85123A  ...  United Kingdom  15.30\n",
              "1    536365     71053  ...  United Kingdom  20.34\n",
              "2    536365    84406B  ...  United Kingdom  22.00\n",
              "3    536365    84029G  ...  United Kingdom  20.34\n",
              "4    536365    84029E  ...  United Kingdom  20.34\n",
              "\n",
              "[5 rows x 9 columns]"
            ]
          },
          "metadata": {
            "tags": []
          },
          "execution_count": 22
        }
      ]
    },
    {
      "cell_type": "markdown",
      "metadata": {
        "id": "SvO2r5ueN6vc"
      },
      "source": [
        "### Create RFM Segments"
      ]
    },
    {
      "cell_type": "markdown",
      "metadata": {
        "id": "6KLRBRre5wZ7"
      },
      "source": [
        "These are the the only 4 things we need to build our RFM segments:\n",
        "1. *customers* : feature that specifies your users,\n",
        "2. *dates* : dates of transactions\n",
        "3. *transactions* : transaction number\n",
        "4. *prices* : price of amount sold"
      ]
    },
    {
      "cell_type": "code",
      "metadata": {
        "id": "pBfoph1PHmRH",
        "outputId": "d9c5ea85-a973-4122-b88c-24f4c4b83aba",
        "colab": {
          "base_uri": "https://localhost:8080/",
          "height": 34
        }
      },
      "source": [
        "data.shape"
      ],
      "execution_count": null,
      "outputs": [
        {
          "output_type": "execute_result",
          "data": {
            "text/plain": [
              "(541909, 9)"
            ]
          },
          "metadata": {
            "tags": []
          },
          "execution_count": 23
        }
      ]
    },
    {
      "cell_type": "code",
      "metadata": {
        "id": "aqsk7p-d2HwL"
      },
      "source": [
        "customers = 'CustomerID'\n",
        "dates = 'InvoiceDate'\n",
        "transactions = 'InvoiceNo'\n",
        "prices = 'Sales'"
      ],
      "execution_count": null,
      "outputs": []
    },
    {
      "cell_type": "code",
      "metadata": {
        "id": "oLsowadTlBWU"
      },
      "source": [
        "data['Description'] = data['Description'].str.strip()\n",
        "data.dropna(axis=0, subset=['InvoiceNo'], inplace=True)\n",
        "\n",
        "data['InvoiceNo'] = data['InvoiceNo'].astype('str')\n",
        "data = data[~data['InvoiceNo'].str.contains('C')]"
      ],
      "execution_count": null,
      "outputs": []
    },
    {
      "cell_type": "code",
      "metadata": {
        "id": "MnDfwck-l4e4",
        "outputId": "eb987994-c088-47cb-b58a-bd0553544aee",
        "colab": {
          "base_uri": "https://localhost:8080/",
          "height": 158
        }
      },
      "source": [
        "data.Country.unique()"
      ],
      "execution_count": null,
      "outputs": [
        {
          "output_type": "execute_result",
          "data": {
            "text/plain": [
              "array(['United Kingdom', 'France', 'Australia', 'Netherlands', 'Germany',\n",
              "       'Norway', 'EIRE', 'Switzerland', 'Spain', 'Poland', 'Portugal',\n",
              "       'Italy', 'Belgium', 'Lithuania', 'Japan', 'Iceland',\n",
              "       'Channel Islands', 'Denmark', 'Cyprus', 'Sweden', 'Finland',\n",
              "       'Austria', 'Bahrain', 'Israel', 'Greece', 'Hong Kong', 'Singapore',\n",
              "       'Lebanon', 'United Arab Emirates', 'Saudi Arabia',\n",
              "       'Czech Republic', 'Canada', 'Unspecified', 'Brazil', 'USA',\n",
              "       'European Community', 'Malta', 'RSA'], dtype=object)"
            ]
          },
          "metadata": {
            "tags": []
          },
          "execution_count": 26
        }
      ]
    },
    {
      "cell_type": "code",
      "metadata": {
        "id": "3Z-jL189lGaJ"
      },
      "source": [
        "country = \"United Kingdom\"\n",
        "\n",
        "# Filter for a single country\n",
        "data_country = data[data.Country == country]"
      ],
      "execution_count": null,
      "outputs": []
    },
    {
      "cell_type": "code",
      "metadata": {
        "id": "5RJgct3PMgew"
      },
      "source": [
        "data = data_country\n",
        "\n",
        "NOW = datetime.datetime.now()\n",
        "\n",
        "# RFM Feature Engineering\n",
        "rfmTable = data.groupby(customers).agg({dates: lambda x: (NOW - x.max()).days, transactions: lambda x: len(x), prices: lambda x: x.sum()})\n",
        "rfmTable[dates] = rfmTable[dates].astype(int)\n",
        "rfmTable.rename(columns={dates: 'recency', \n",
        "                         transactions: 'frequency', \n",
        "                         prices: 'monetary_value'}, inplace=True)"
      ],
      "execution_count": null,
      "outputs": []
    },
    {
      "cell_type": "code",
      "metadata": {
        "id": "YQGmAVWUOBUw",
        "outputId": "02d8a0bd-05bd-4008-a9e9-5a9d2dfbc0f4",
        "colab": {
          "base_uri": "https://localhost:8080/",
          "height": 227
        }
      },
      "source": [
        "rfmTable.head()"
      ],
      "execution_count": null,
      "outputs": [
        {
          "output_type": "execute_result",
          "data": {
            "text/html": [
              "<div>\n",
              "<style scoped>\n",
              "    .dataframe tbody tr th:only-of-type {\n",
              "        vertical-align: middle;\n",
              "    }\n",
              "\n",
              "    .dataframe tbody tr th {\n",
              "        vertical-align: top;\n",
              "    }\n",
              "\n",
              "    .dataframe thead th {\n",
              "        text-align: right;\n",
              "    }\n",
              "</style>\n",
              "<table border=\"1\" class=\"dataframe\">\n",
              "  <thead>\n",
              "    <tr style=\"text-align: right;\">\n",
              "      <th></th>\n",
              "      <th>recency</th>\n",
              "      <th>frequency</th>\n",
              "      <th>monetary_value</th>\n",
              "    </tr>\n",
              "    <tr>\n",
              "      <th>CustomerID</th>\n",
              "      <th></th>\n",
              "      <th></th>\n",
              "      <th></th>\n",
              "    </tr>\n",
              "  </thead>\n",
              "  <tbody>\n",
              "    <tr>\n",
              "      <th>12346.0</th>\n",
              "      <td>3251</td>\n",
              "      <td>1</td>\n",
              "      <td>77183.60</td>\n",
              "    </tr>\n",
              "    <tr>\n",
              "      <th>12747.0</th>\n",
              "      <td>2928</td>\n",
              "      <td>103</td>\n",
              "      <td>4196.01</td>\n",
              "    </tr>\n",
              "    <tr>\n",
              "      <th>12748.0</th>\n",
              "      <td>2926</td>\n",
              "      <td>4596</td>\n",
              "      <td>33719.73</td>\n",
              "    </tr>\n",
              "    <tr>\n",
              "      <th>12749.0</th>\n",
              "      <td>2929</td>\n",
              "      <td>199</td>\n",
              "      <td>4090.88</td>\n",
              "    </tr>\n",
              "    <tr>\n",
              "      <th>12820.0</th>\n",
              "      <td>2929</td>\n",
              "      <td>59</td>\n",
              "      <td>942.34</td>\n",
              "    </tr>\n",
              "  </tbody>\n",
              "</table>\n",
              "</div>"
            ],
            "text/plain": [
              "            recency  frequency  monetary_value\n",
              "CustomerID                                    \n",
              "12346.0        3251          1        77183.60\n",
              "12747.0        2928        103         4196.01\n",
              "12748.0        2926       4596        33719.73\n",
              "12749.0        2929        199         4090.88\n",
              "12820.0        2929         59          942.34"
            ]
          },
          "metadata": {
            "tags": []
          },
          "execution_count": 9
        }
      ]
    },
    {
      "cell_type": "code",
      "metadata": {
        "id": "w8p8VXj2IRTj",
        "outputId": "a72f5139-26fb-4320-be7c-727002a5c74a",
        "colab": {
          "base_uri": "https://localhost:8080/",
          "height": 34
        }
      },
      "source": [
        "rfmTable.shape"
      ],
      "execution_count": null,
      "outputs": [
        {
          "output_type": "execute_result",
          "data": {
            "text/plain": [
              "(3921, 3)"
            ]
          },
          "metadata": {
            "tags": []
          },
          "execution_count": 10
        }
      ]
    },
    {
      "cell_type": "markdown",
      "metadata": {
        "id": "LjJU0mgh6uRg"
      },
      "source": [
        "### Segment Users Based on Quantiles \n",
        "\n",
        "The easiest way to split metrics into segments is by using quartiles.  \n",
        "\n",
        "1. This gives us a starting point for the detailed analysis.\n",
        "2. 4 segments are easy to understand and explain.\n"
      ]
    },
    {
      "cell_type": "code",
      "metadata": {
        "id": "c-rOYfZg7KRT",
        "outputId": "9cf5d606-968e-47c1-d5a4-8cc8eac62362",
        "colab": {
          "base_uri": "https://localhost:8080/",
          "height": 287
        }
      },
      "source": [
        "quantiles = rfmTable.describe()\n",
        "quantiles"
      ],
      "execution_count": null,
      "outputs": [
        {
          "output_type": "execute_result",
          "data": {
            "text/html": [
              "<div>\n",
              "<style scoped>\n",
              "    .dataframe tbody tr th:only-of-type {\n",
              "        vertical-align: middle;\n",
              "    }\n",
              "\n",
              "    .dataframe tbody tr th {\n",
              "        vertical-align: top;\n",
              "    }\n",
              "\n",
              "    .dataframe thead th {\n",
              "        text-align: right;\n",
              "    }\n",
              "</style>\n",
              "<table border=\"1\" class=\"dataframe\">\n",
              "  <thead>\n",
              "    <tr style=\"text-align: right;\">\n",
              "      <th></th>\n",
              "      <th>recency</th>\n",
              "      <th>frequency</th>\n",
              "      <th>monetary_value</th>\n",
              "    </tr>\n",
              "  </thead>\n",
              "  <tbody>\n",
              "    <tr>\n",
              "      <th>count</th>\n",
              "      <td>3921.000000</td>\n",
              "      <td>3921.000000</td>\n",
              "      <td>3921.000000</td>\n",
              "    </tr>\n",
              "    <tr>\n",
              "      <th>mean</th>\n",
              "      <td>3017.722265</td>\n",
              "      <td>90.371079</td>\n",
              "      <td>1863.910113</td>\n",
              "    </tr>\n",
              "    <tr>\n",
              "      <th>std</th>\n",
              "      <td>99.528532</td>\n",
              "      <td>217.796155</td>\n",
              "      <td>7481.922217</td>\n",
              "    </tr>\n",
              "    <tr>\n",
              "      <th>min</th>\n",
              "      <td>2926.000000</td>\n",
              "      <td>1.000000</td>\n",
              "      <td>0.000000</td>\n",
              "    </tr>\n",
              "    <tr>\n",
              "      <th>25%</th>\n",
              "      <td>2943.000000</td>\n",
              "      <td>17.000000</td>\n",
              "      <td>300.040000</td>\n",
              "    </tr>\n",
              "    <tr>\n",
              "      <th>50%</th>\n",
              "      <td>2976.000000</td>\n",
              "      <td>41.000000</td>\n",
              "      <td>651.820000</td>\n",
              "    </tr>\n",
              "    <tr>\n",
              "      <th>75%</th>\n",
              "      <td>3068.000000</td>\n",
              "      <td>99.000000</td>\n",
              "      <td>1575.890000</td>\n",
              "    </tr>\n",
              "    <tr>\n",
              "      <th>max</th>\n",
              "      <td>3299.000000</td>\n",
              "      <td>7847.000000</td>\n",
              "      <td>259657.300000</td>\n",
              "    </tr>\n",
              "  </tbody>\n",
              "</table>\n",
              "</div>"
            ],
            "text/plain": [
              "           recency    frequency  monetary_value\n",
              "count  3921.000000  3921.000000     3921.000000\n",
              "mean   3017.722265    90.371079     1863.910113\n",
              "std      99.528532   217.796155     7481.922217\n",
              "min    2926.000000     1.000000        0.000000\n",
              "25%    2943.000000    17.000000      300.040000\n",
              "50%    2976.000000    41.000000      651.820000\n",
              "75%    3068.000000    99.000000     1575.890000\n",
              "max    3299.000000  7847.000000   259657.300000"
            ]
          },
          "metadata": {
            "tags": []
          },
          "execution_count": 11
        }
      ]
    },
    {
      "cell_type": "code",
      "metadata": {
        "id": "LEmbVr3UPOHa"
      },
      "source": [
        "## RFM scorer\n",
        "segmented_rfm = rfmTable.copy()\n",
        "\n",
        "def RScore(x, p, d):\n",
        "    if x <= d[p]['25%']:\n",
        "        return 1\n",
        "    elif x <= d[p]['50%']:\n",
        "        return 2\n",
        "    elif x <= d[p]['75%']: \n",
        "        return 3\n",
        "    else:\n",
        "        return 4\n",
        "    \n",
        "def FMScore(x,p,d):\n",
        "    if x <= d[p]['25%']:\n",
        "        return 4\n",
        "    elif x <= d[p]['50%']:\n",
        "        return 3\n",
        "    elif x <= d[p]['75%']: \n",
        "        return 2\n",
        "    else:\n",
        "        return 1"
      ],
      "execution_count": null,
      "outputs": []
    },
    {
      "cell_type": "markdown",
      "metadata": {
        "id": "OSAlFrJ-BhsZ"
      },
      "source": [
        "### Score Users"
      ]
    },
    {
      "cell_type": "code",
      "metadata": {
        "id": "W1Fdd7Z091V_",
        "outputId": "a1a7fe89-e6ff-45a3-cb0b-ce92f995d63b",
        "colab": {
          "base_uri": "https://localhost:8080/",
          "height": 227
        }
      },
      "source": [
        "### Score each user\n",
        "segmented_rfm['r_quartile'] = segmented_rfm['recency'].apply(RScore, args=('recency', quantiles,))\n",
        "segmented_rfm['f_quartile'] = segmented_rfm['frequency'].apply(FMScore, args=('frequency',quantiles,))\n",
        "segmented_rfm['m_quartile'] = segmented_rfm['monetary_value'].apply(FMScore, args=('monetary_value',quantiles,))\n",
        "\n",
        "### Merge Scores\n",
        "segmented_rfm['RFMScore'] = segmented_rfm.r_quartile.map(str) + segmented_rfm.f_quartile.map(str) + segmented_rfm.m_quartile.map(str)\n",
        "segmented_rfm['RFMScore'] = segmented_rfm['RFMScore'].map(int)\n",
        "\n",
        "segmented_rfm.head()"
      ],
      "execution_count": null,
      "outputs": [
        {
          "output_type": "execute_result",
          "data": {
            "text/html": [
              "<div>\n",
              "<style scoped>\n",
              "    .dataframe tbody tr th:only-of-type {\n",
              "        vertical-align: middle;\n",
              "    }\n",
              "\n",
              "    .dataframe tbody tr th {\n",
              "        vertical-align: top;\n",
              "    }\n",
              "\n",
              "    .dataframe thead th {\n",
              "        text-align: right;\n",
              "    }\n",
              "</style>\n",
              "<table border=\"1\" class=\"dataframe\">\n",
              "  <thead>\n",
              "    <tr style=\"text-align: right;\">\n",
              "      <th></th>\n",
              "      <th>recency</th>\n",
              "      <th>frequency</th>\n",
              "      <th>monetary_value</th>\n",
              "      <th>r_quartile</th>\n",
              "      <th>f_quartile</th>\n",
              "      <th>m_quartile</th>\n",
              "      <th>RFMScore</th>\n",
              "    </tr>\n",
              "    <tr>\n",
              "      <th>CustomerID</th>\n",
              "      <th></th>\n",
              "      <th></th>\n",
              "      <th></th>\n",
              "      <th></th>\n",
              "      <th></th>\n",
              "      <th></th>\n",
              "      <th></th>\n",
              "    </tr>\n",
              "  </thead>\n",
              "  <tbody>\n",
              "    <tr>\n",
              "      <th>12346.0</th>\n",
              "      <td>3251</td>\n",
              "      <td>1</td>\n",
              "      <td>77183.60</td>\n",
              "      <td>4</td>\n",
              "      <td>4</td>\n",
              "      <td>1</td>\n",
              "      <td>441</td>\n",
              "    </tr>\n",
              "    <tr>\n",
              "      <th>12747.0</th>\n",
              "      <td>2928</td>\n",
              "      <td>103</td>\n",
              "      <td>4196.01</td>\n",
              "      <td>1</td>\n",
              "      <td>1</td>\n",
              "      <td>1</td>\n",
              "      <td>111</td>\n",
              "    </tr>\n",
              "    <tr>\n",
              "      <th>12748.0</th>\n",
              "      <td>2926</td>\n",
              "      <td>4596</td>\n",
              "      <td>33719.73</td>\n",
              "      <td>1</td>\n",
              "      <td>1</td>\n",
              "      <td>1</td>\n",
              "      <td>111</td>\n",
              "    </tr>\n",
              "    <tr>\n",
              "      <th>12749.0</th>\n",
              "      <td>2929</td>\n",
              "      <td>199</td>\n",
              "      <td>4090.88</td>\n",
              "      <td>1</td>\n",
              "      <td>1</td>\n",
              "      <td>1</td>\n",
              "      <td>111</td>\n",
              "    </tr>\n",
              "    <tr>\n",
              "      <th>12820.0</th>\n",
              "      <td>2929</td>\n",
              "      <td>59</td>\n",
              "      <td>942.34</td>\n",
              "      <td>1</td>\n",
              "      <td>2</td>\n",
              "      <td>2</td>\n",
              "      <td>122</td>\n",
              "    </tr>\n",
              "  </tbody>\n",
              "</table>\n",
              "</div>"
            ],
            "text/plain": [
              "            recency  frequency  ...  m_quartile  RFMScore\n",
              "CustomerID                      ...                      \n",
              "12346.0        3251          1  ...           1       441\n",
              "12747.0        2928        103  ...           1       111\n",
              "12748.0        2926       4596  ...           1       111\n",
              "12749.0        2929        199  ...           1       111\n",
              "12820.0        2929         59  ...           2       122\n",
              "\n",
              "[5 rows x 7 columns]"
            ]
          },
          "metadata": {
            "tags": []
          },
          "execution_count": 13
        }
      ]
    },
    {
      "cell_type": "code",
      "metadata": {
        "id": "a4jo_kVcDunQ"
      },
      "source": [
        "data.to_csv('some_data.csv')"
      ],
      "execution_count": null,
      "outputs": []
    },
    {
      "cell_type": "code",
      "metadata": {
        "id": "Hf1JZuuNDM34"
      },
      "source": [
        "\n",
        "segmented_rfm.to_csv('some_file_name.csv')\n",
        "\n",
        "files.download('some_file_name.csv')"
      ],
      "execution_count": null,
      "outputs": []
    },
    {
      "cell_type": "markdown",
      "metadata": {
        "id": "-Q-gMWa_F5lI"
      },
      "source": [
        "## Identify Customer Segments"
      ]
    },
    {
      "cell_type": "markdown",
      "metadata": {
        "id": "mZz3G-V7B4EE"
      },
      "source": [
        "### Who are the top 10 of our best customers?  \n",
        "RFM Score of *111*."
      ]
    },
    {
      "cell_type": "code",
      "metadata": {
        "id": "L0tHhKzeBWVZ",
        "outputId": "dd95e8c8-a4f8-4db1-d653-56d63f30e7d9",
        "colab": {
          "base_uri": "https://localhost:8080/",
          "height": 105
        }
      },
      "source": [
        "segmented_rfm['RFMScore'].sort_values().unique()"
      ],
      "execution_count": null,
      "outputs": [
        {
          "output_type": "execute_result",
          "data": {
            "text/plain": [
              "array([111, 112, 113, 114, 121, 122, 123, 124, 131, 132, 133, 134, 141,\n",
              "       142, 143, 144, 211, 212, 213, 221, 222, 223, 224, 231, 232, 233,\n",
              "       234, 241, 242, 243, 244, 311, 312, 313, 321, 322, 323, 324, 331,\n",
              "       332, 333, 334, 341, 342, 343, 344, 411, 412, 413, 421, 422, 423,\n",
              "       424, 431, 432, 433, 434, 441, 442, 443, 444])"
            ]
          },
          "metadata": {
            "tags": []
          },
          "execution_count": 14
        }
      ]
    },
    {
      "cell_type": "code",
      "metadata": {
        "id": "Oa2Aur7MBVI4",
        "outputId": "511642f9-dfa2-4406-ef82-63a0920122cf",
        "colab": {
          "base_uri": "https://localhost:8080/",
          "height": 436
        }
      },
      "source": [
        "segmented_rfm[segmented_rfm['RFMScore']==111]"
      ],
      "execution_count": null,
      "outputs": [
        {
          "output_type": "execute_result",
          "data": {
            "text/html": [
              "<div>\n",
              "<style scoped>\n",
              "    .dataframe tbody tr th:only-of-type {\n",
              "        vertical-align: middle;\n",
              "    }\n",
              "\n",
              "    .dataframe tbody tr th {\n",
              "        vertical-align: top;\n",
              "    }\n",
              "\n",
              "    .dataframe thead th {\n",
              "        text-align: right;\n",
              "    }\n",
              "</style>\n",
              "<table border=\"1\" class=\"dataframe\">\n",
              "  <thead>\n",
              "    <tr style=\"text-align: right;\">\n",
              "      <th></th>\n",
              "      <th>recency</th>\n",
              "      <th>frequency</th>\n",
              "      <th>monetary_value</th>\n",
              "      <th>r_quartile</th>\n",
              "      <th>f_quartile</th>\n",
              "      <th>m_quartile</th>\n",
              "      <th>RFMScore</th>\n",
              "    </tr>\n",
              "    <tr>\n",
              "      <th>CustomerID</th>\n",
              "      <th></th>\n",
              "      <th></th>\n",
              "      <th></th>\n",
              "      <th></th>\n",
              "      <th></th>\n",
              "      <th></th>\n",
              "      <th></th>\n",
              "    </tr>\n",
              "  </thead>\n",
              "  <tbody>\n",
              "    <tr>\n",
              "      <th>12747.0</th>\n",
              "      <td>2928</td>\n",
              "      <td>103</td>\n",
              "      <td>4196.01</td>\n",
              "      <td>1</td>\n",
              "      <td>1</td>\n",
              "      <td>1</td>\n",
              "      <td>111</td>\n",
              "    </tr>\n",
              "    <tr>\n",
              "      <th>12748.0</th>\n",
              "      <td>2926</td>\n",
              "      <td>4596</td>\n",
              "      <td>33719.73</td>\n",
              "      <td>1</td>\n",
              "      <td>1</td>\n",
              "      <td>1</td>\n",
              "      <td>111</td>\n",
              "    </tr>\n",
              "    <tr>\n",
              "      <th>12749.0</th>\n",
              "      <td>2929</td>\n",
              "      <td>199</td>\n",
              "      <td>4090.88</td>\n",
              "      <td>1</td>\n",
              "      <td>1</td>\n",
              "      <td>1</td>\n",
              "      <td>111</td>\n",
              "    </tr>\n",
              "    <tr>\n",
              "      <th>12839.0</th>\n",
              "      <td>2928</td>\n",
              "      <td>314</td>\n",
              "      <td>5591.42</td>\n",
              "      <td>1</td>\n",
              "      <td>1</td>\n",
              "      <td>1</td>\n",
              "      <td>111</td>\n",
              "    </tr>\n",
              "    <tr>\n",
              "      <th>12841.0</th>\n",
              "      <td>2930</td>\n",
              "      <td>420</td>\n",
              "      <td>4022.35</td>\n",
              "      <td>1</td>\n",
              "      <td>1</td>\n",
              "      <td>1</td>\n",
              "      <td>111</td>\n",
              "    </tr>\n",
              "    <tr>\n",
              "      <th>...</th>\n",
              "      <td>...</td>\n",
              "      <td>...</td>\n",
              "      <td>...</td>\n",
              "      <td>...</td>\n",
              "      <td>...</td>\n",
              "      <td>...</td>\n",
              "      <td>...</td>\n",
              "    </tr>\n",
              "    <tr>\n",
              "      <th>18229.0</th>\n",
              "      <td>2937</td>\n",
              "      <td>164</td>\n",
              "      <td>7276.90</td>\n",
              "      <td>1</td>\n",
              "      <td>1</td>\n",
              "      <td>1</td>\n",
              "      <td>111</td>\n",
              "    </tr>\n",
              "    <tr>\n",
              "      <th>18241.0</th>\n",
              "      <td>2935</td>\n",
              "      <td>104</td>\n",
              "      <td>2073.09</td>\n",
              "      <td>1</td>\n",
              "      <td>1</td>\n",
              "      <td>1</td>\n",
              "      <td>111</td>\n",
              "    </tr>\n",
              "    <tr>\n",
              "      <th>18245.0</th>\n",
              "      <td>2933</td>\n",
              "      <td>175</td>\n",
              "      <td>2567.06</td>\n",
              "      <td>1</td>\n",
              "      <td>1</td>\n",
              "      <td>1</td>\n",
              "      <td>111</td>\n",
              "    </tr>\n",
              "    <tr>\n",
              "      <th>18272.0</th>\n",
              "      <td>2928</td>\n",
              "      <td>166</td>\n",
              "      <td>3078.58</td>\n",
              "      <td>1</td>\n",
              "      <td>1</td>\n",
              "      <td>1</td>\n",
              "      <td>111</td>\n",
              "    </tr>\n",
              "    <tr>\n",
              "      <th>18283.0</th>\n",
              "      <td>2929</td>\n",
              "      <td>756</td>\n",
              "      <td>2094.88</td>\n",
              "      <td>1</td>\n",
              "      <td>1</td>\n",
              "      <td>1</td>\n",
              "      <td>111</td>\n",
              "    </tr>\n",
              "  </tbody>\n",
              "</table>\n",
              "<p>409 rows × 7 columns</p>\n",
              "</div>"
            ],
            "text/plain": [
              "            recency  frequency  ...  m_quartile  RFMScore\n",
              "CustomerID                      ...                      \n",
              "12747.0        2928        103  ...           1       111\n",
              "12748.0        2926       4596  ...           1       111\n",
              "12749.0        2929        199  ...           1       111\n",
              "12839.0        2928        314  ...           1       111\n",
              "12841.0        2930        420  ...           1       111\n",
              "...             ...        ...  ...         ...       ...\n",
              "18229.0        2937        164  ...           1       111\n",
              "18241.0        2935        104  ...           1       111\n",
              "18245.0        2933        175  ...           1       111\n",
              "18272.0        2928        166  ...           1       111\n",
              "18283.0        2929        756  ...           1       111\n",
              "\n",
              "[409 rows x 7 columns]"
            ]
          },
          "metadata": {
            "tags": []
          },
          "execution_count": 15
        }
      ]
    },
    {
      "cell_type": "markdown",
      "metadata": {
        "id": "wnuV-fHgC0i0"
      },
      "source": [
        "### Who are our Loyal Customers?  \n",
        "Frequency score of *1*."
      ]
    },
    {
      "cell_type": "code",
      "metadata": {
        "id": "VzUc6a3kCrVL",
        "outputId": "f7df5036-0f08-4442-c550-2b4f826784b3",
        "colab": {
          "base_uri": "https://localhost:8080/",
          "height": 377
        }
      },
      "source": [
        "segmented_rfm[segmented_rfm['f_quartile']==1].sort_values('frequency', ascending=False).tail(10)"
      ],
      "execution_count": null,
      "outputs": [
        {
          "output_type": "execute_result",
          "data": {
            "text/html": [
              "<div>\n",
              "<style scoped>\n",
              "    .dataframe tbody tr th:only-of-type {\n",
              "        vertical-align: middle;\n",
              "    }\n",
              "\n",
              "    .dataframe tbody tr th {\n",
              "        vertical-align: top;\n",
              "    }\n",
              "\n",
              "    .dataframe thead th {\n",
              "        text-align: right;\n",
              "    }\n",
              "</style>\n",
              "<table border=\"1\" class=\"dataframe\">\n",
              "  <thead>\n",
              "    <tr style=\"text-align: right;\">\n",
              "      <th></th>\n",
              "      <th>recency</th>\n",
              "      <th>frequency</th>\n",
              "      <th>monetary_value</th>\n",
              "      <th>r_quartile</th>\n",
              "      <th>f_quartile</th>\n",
              "      <th>m_quartile</th>\n",
              "      <th>RFMScore</th>\n",
              "    </tr>\n",
              "    <tr>\n",
              "      <th>CustomerID</th>\n",
              "      <th></th>\n",
              "      <th></th>\n",
              "      <th></th>\n",
              "      <th></th>\n",
              "      <th></th>\n",
              "      <th></th>\n",
              "      <th></th>\n",
              "    </tr>\n",
              "  </thead>\n",
              "  <tbody>\n",
              "    <tr>\n",
              "      <th>13637.0</th>\n",
              "      <td>2978</td>\n",
              "      <td>101</td>\n",
              "      <td>810.50</td>\n",
              "      <td>3</td>\n",
              "      <td>1</td>\n",
              "      <td>2</td>\n",
              "      <td>312</td>\n",
              "    </tr>\n",
              "    <tr>\n",
              "      <th>14584.0</th>\n",
              "      <td>3095</td>\n",
              "      <td>100</td>\n",
              "      <td>1042.26</td>\n",
              "      <td>4</td>\n",
              "      <td>1</td>\n",
              "      <td>2</td>\n",
              "      <td>412</td>\n",
              "    </tr>\n",
              "    <tr>\n",
              "      <th>15620.0</th>\n",
              "      <td>2982</td>\n",
              "      <td>100</td>\n",
              "      <td>1553.18</td>\n",
              "      <td>3</td>\n",
              "      <td>1</td>\n",
              "      <td>2</td>\n",
              "      <td>312</td>\n",
              "    </tr>\n",
              "    <tr>\n",
              "      <th>17614.0</th>\n",
              "      <td>2983</td>\n",
              "      <td>100</td>\n",
              "      <td>390.07</td>\n",
              "      <td>3</td>\n",
              "      <td>1</td>\n",
              "      <td>3</td>\n",
              "      <td>313</td>\n",
              "    </tr>\n",
              "    <tr>\n",
              "      <th>14217.0</th>\n",
              "      <td>2927</td>\n",
              "      <td>100</td>\n",
              "      <td>2004.98</td>\n",
              "      <td>1</td>\n",
              "      <td>1</td>\n",
              "      <td>1</td>\n",
              "      <td>111</td>\n",
              "    </tr>\n",
              "    <tr>\n",
              "      <th>17451.0</th>\n",
              "      <td>2927</td>\n",
              "      <td>100</td>\n",
              "      <td>1721.40</td>\n",
              "      <td>1</td>\n",
              "      <td>1</td>\n",
              "      <td>1</td>\n",
              "      <td>111</td>\n",
              "    </tr>\n",
              "    <tr>\n",
              "      <th>16031.0</th>\n",
              "      <td>3018</td>\n",
              "      <td>100</td>\n",
              "      <td>548.94</td>\n",
              "      <td>3</td>\n",
              "      <td>1</td>\n",
              "      <td>3</td>\n",
              "      <td>313</td>\n",
              "    </tr>\n",
              "    <tr>\n",
              "      <th>15113.0</th>\n",
              "      <td>2935</td>\n",
              "      <td>100</td>\n",
              "      <td>3609.33</td>\n",
              "      <td>1</td>\n",
              "      <td>1</td>\n",
              "      <td>1</td>\n",
              "      <td>111</td>\n",
              "    </tr>\n",
              "    <tr>\n",
              "      <th>15106.0</th>\n",
              "      <td>2943</td>\n",
              "      <td>100</td>\n",
              "      <td>1422.52</td>\n",
              "      <td>1</td>\n",
              "      <td>1</td>\n",
              "      <td>2</td>\n",
              "      <td>112</td>\n",
              "    </tr>\n",
              "    <tr>\n",
              "      <th>14292.0</th>\n",
              "      <td>2933</td>\n",
              "      <td>100</td>\n",
              "      <td>4871.93</td>\n",
              "      <td>1</td>\n",
              "      <td>1</td>\n",
              "      <td>1</td>\n",
              "      <td>111</td>\n",
              "    </tr>\n",
              "  </tbody>\n",
              "</table>\n",
              "</div>"
            ],
            "text/plain": [
              "            recency  frequency  ...  m_quartile  RFMScore\n",
              "CustomerID                      ...                      \n",
              "13637.0        2978        101  ...           2       312\n",
              "14584.0        3095        100  ...           2       412\n",
              "15620.0        2982        100  ...           2       312\n",
              "17614.0        2983        100  ...           3       313\n",
              "14217.0        2927        100  ...           1       111\n",
              "17451.0        2927        100  ...           1       111\n",
              "16031.0        3018        100  ...           3       313\n",
              "15113.0        2935        100  ...           1       111\n",
              "15106.0        2943        100  ...           2       112\n",
              "14292.0        2933        100  ...           1       111\n",
              "\n",
              "[10 rows x 7 columns]"
            ]
          },
          "metadata": {
            "tags": []
          },
          "execution_count": 16
        }
      ]
    },
    {
      "cell_type": "markdown",
      "metadata": {
        "id": "IU7qJ9cNE4jN"
      },
      "source": [
        "### Who are our Big Spenders?  \n",
        "Monetary value score of *1*."
      ]
    },
    {
      "cell_type": "code",
      "metadata": {
        "id": "n6IkARh3E--Z",
        "outputId": "6b93c461-8c3d-4b70-99f3-3dae4fbe6d49",
        "colab": {
          "base_uri": "https://localhost:8080/",
          "height": 377
        }
      },
      "source": [
        "segmented_rfm[segmented_rfm['m_quartile']==1].sort_values('monetary_value', ascending=False).tail(10)"
      ],
      "execution_count": null,
      "outputs": [
        {
          "output_type": "execute_result",
          "data": {
            "text/html": [
              "<div>\n",
              "<style scoped>\n",
              "    .dataframe tbody tr th:only-of-type {\n",
              "        vertical-align: middle;\n",
              "    }\n",
              "\n",
              "    .dataframe tbody tr th {\n",
              "        vertical-align: top;\n",
              "    }\n",
              "\n",
              "    .dataframe thead th {\n",
              "        text-align: right;\n",
              "    }\n",
              "</style>\n",
              "<table border=\"1\" class=\"dataframe\">\n",
              "  <thead>\n",
              "    <tr style=\"text-align: right;\">\n",
              "      <th></th>\n",
              "      <th>recency</th>\n",
              "      <th>frequency</th>\n",
              "      <th>monetary_value</th>\n",
              "      <th>r_quartile</th>\n",
              "      <th>f_quartile</th>\n",
              "      <th>m_quartile</th>\n",
              "      <th>RFMScore</th>\n",
              "    </tr>\n",
              "    <tr>\n",
              "      <th>CustomerID</th>\n",
              "      <th></th>\n",
              "      <th></th>\n",
              "      <th></th>\n",
              "      <th></th>\n",
              "      <th></th>\n",
              "      <th></th>\n",
              "      <th></th>\n",
              "    </tr>\n",
              "  </thead>\n",
              "  <tbody>\n",
              "    <tr>\n",
              "      <th>16496.0</th>\n",
              "      <td>2934</td>\n",
              "      <td>95</td>\n",
              "      <td>1599.52</td>\n",
              "      <td>1</td>\n",
              "      <td>2</td>\n",
              "      <td>1</td>\n",
              "      <td>121</td>\n",
              "    </tr>\n",
              "    <tr>\n",
              "      <th>13850.0</th>\n",
              "      <td>3055</td>\n",
              "      <td>93</td>\n",
              "      <td>1595.48</td>\n",
              "      <td>3</td>\n",
              "      <td>2</td>\n",
              "      <td>1</td>\n",
              "      <td>321</td>\n",
              "    </tr>\n",
              "    <tr>\n",
              "      <th>17837.0</th>\n",
              "      <td>2968</td>\n",
              "      <td>169</td>\n",
              "      <td>1593.38</td>\n",
              "      <td>2</td>\n",
              "      <td>1</td>\n",
              "      <td>1</td>\n",
              "      <td>211</td>\n",
              "    </tr>\n",
              "    <tr>\n",
              "      <th>16332.0</th>\n",
              "      <td>2954</td>\n",
              "      <td>153</td>\n",
              "      <td>1593.20</td>\n",
              "      <td>2</td>\n",
              "      <td>1</td>\n",
              "      <td>1</td>\n",
              "      <td>211</td>\n",
              "    </tr>\n",
              "    <tr>\n",
              "      <th>16676.0</th>\n",
              "      <td>2959</td>\n",
              "      <td>89</td>\n",
              "      <td>1592.12</td>\n",
              "      <td>2</td>\n",
              "      <td>2</td>\n",
              "      <td>1</td>\n",
              "      <td>221</td>\n",
              "    </tr>\n",
              "    <tr>\n",
              "      <th>14970.0</th>\n",
              "      <td>2994</td>\n",
              "      <td>34</td>\n",
              "      <td>1592.06</td>\n",
              "      <td>3</td>\n",
              "      <td>3</td>\n",
              "      <td>1</td>\n",
              "      <td>331</td>\n",
              "    </tr>\n",
              "    <tr>\n",
              "      <th>15611.0</th>\n",
              "      <td>2935</td>\n",
              "      <td>43</td>\n",
              "      <td>1591.45</td>\n",
              "      <td>1</td>\n",
              "      <td>2</td>\n",
              "      <td>1</td>\n",
              "      <td>121</td>\n",
              "    </tr>\n",
              "    <tr>\n",
              "      <th>18178.0</th>\n",
              "      <td>3054</td>\n",
              "      <td>97</td>\n",
              "      <td>1590.81</td>\n",
              "      <td>3</td>\n",
              "      <td>2</td>\n",
              "      <td>1</td>\n",
              "      <td>321</td>\n",
              "    </tr>\n",
              "    <tr>\n",
              "      <th>15532.0</th>\n",
              "      <td>2951</td>\n",
              "      <td>256</td>\n",
              "      <td>1580.93</td>\n",
              "      <td>2</td>\n",
              "      <td>1</td>\n",
              "      <td>1</td>\n",
              "      <td>211</td>\n",
              "    </tr>\n",
              "    <tr>\n",
              "      <th>16889.0</th>\n",
              "      <td>3120</td>\n",
              "      <td>135</td>\n",
              "      <td>1578.67</td>\n",
              "      <td>4</td>\n",
              "      <td>1</td>\n",
              "      <td>1</td>\n",
              "      <td>411</td>\n",
              "    </tr>\n",
              "  </tbody>\n",
              "</table>\n",
              "</div>"
            ],
            "text/plain": [
              "            recency  frequency  ...  m_quartile  RFMScore\n",
              "CustomerID                      ...                      \n",
              "16496.0        2934         95  ...           1       121\n",
              "13850.0        3055         93  ...           1       321\n",
              "17837.0        2968        169  ...           1       211\n",
              "16332.0        2954        153  ...           1       211\n",
              "16676.0        2959         89  ...           1       221\n",
              "14970.0        2994         34  ...           1       331\n",
              "15611.0        2935         43  ...           1       121\n",
              "18178.0        3054         97  ...           1       321\n",
              "15532.0        2951        256  ...           1       211\n",
              "16889.0        3120        135  ...           1       411\n",
              "\n",
              "[10 rows x 7 columns]"
            ]
          },
          "metadata": {
            "tags": []
          },
          "execution_count": 17
        }
      ]
    },
    {
      "cell_type": "markdown",
      "metadata": {
        "id": "rjqjlKfbFLLx"
      },
      "source": [
        "### Who are almost lost?  \n",
        "Haven't purchased for some time but spent a lot and transacted a lot.  \n",
        "RFM Score of *311*."
      ]
    },
    {
      "cell_type": "code",
      "metadata": {
        "id": "dWAkTg88FRZV",
        "outputId": "ff8ad0af-baf5-4bbc-fece-bc3ce8289b13",
        "colab": {
          "base_uri": "https://localhost:8080/",
          "height": 377
        }
      },
      "source": [
        "segmented_rfm[segmented_rfm['RFMScore']==311].sort_values('monetary_value', ascending=False).head(10)"
      ],
      "execution_count": null,
      "outputs": [
        {
          "output_type": "execute_result",
          "data": {
            "text/html": [
              "<div>\n",
              "<style scoped>\n",
              "    .dataframe tbody tr th:only-of-type {\n",
              "        vertical-align: middle;\n",
              "    }\n",
              "\n",
              "    .dataframe tbody tr th {\n",
              "        vertical-align: top;\n",
              "    }\n",
              "\n",
              "    .dataframe thead th {\n",
              "        text-align: right;\n",
              "    }\n",
              "</style>\n",
              "<table border=\"1\" class=\"dataframe\">\n",
              "  <thead>\n",
              "    <tr style=\"text-align: right;\">\n",
              "      <th></th>\n",
              "      <th>recency</th>\n",
              "      <th>frequency</th>\n",
              "      <th>monetary_value</th>\n",
              "      <th>r_quartile</th>\n",
              "      <th>f_quartile</th>\n",
              "      <th>m_quartile</th>\n",
              "      <th>RFMScore</th>\n",
              "    </tr>\n",
              "    <tr>\n",
              "      <th>CustomerID</th>\n",
              "      <th></th>\n",
              "      <th></th>\n",
              "      <th></th>\n",
              "      <th></th>\n",
              "      <th></th>\n",
              "      <th></th>\n",
              "      <th></th>\n",
              "    </tr>\n",
              "  </thead>\n",
              "  <tbody>\n",
              "    <tr>\n",
              "      <th>16180.0</th>\n",
              "      <td>3026</td>\n",
              "      <td>162</td>\n",
              "      <td>10254.18</td>\n",
              "      <td>3</td>\n",
              "      <td>1</td>\n",
              "      <td>1</td>\n",
              "      <td>311</td>\n",
              "    </tr>\n",
              "    <tr>\n",
              "      <th>14952.0</th>\n",
              "      <td>2985</td>\n",
              "      <td>138</td>\n",
              "      <td>8099.49</td>\n",
              "      <td>3</td>\n",
              "      <td>1</td>\n",
              "      <td>1</td>\n",
              "      <td>311</td>\n",
              "    </tr>\n",
              "    <tr>\n",
              "      <th>16745.0</th>\n",
              "      <td>3012</td>\n",
              "      <td>357</td>\n",
              "      <td>7194.30</td>\n",
              "      <td>3</td>\n",
              "      <td>1</td>\n",
              "      <td>1</td>\n",
              "      <td>311</td>\n",
              "    </tr>\n",
              "    <tr>\n",
              "      <th>16652.0</th>\n",
              "      <td>2984</td>\n",
              "      <td>118</td>\n",
              "      <td>6773.97</td>\n",
              "      <td>3</td>\n",
              "      <td>1</td>\n",
              "      <td>1</td>\n",
              "      <td>311</td>\n",
              "    </tr>\n",
              "    <tr>\n",
              "      <th>17509.0</th>\n",
              "      <td>2983</td>\n",
              "      <td>366</td>\n",
              "      <td>6115.14</td>\n",
              "      <td>3</td>\n",
              "      <td>1</td>\n",
              "      <td>1</td>\n",
              "      <td>311</td>\n",
              "    </tr>\n",
              "    <tr>\n",
              "      <th>16984.0</th>\n",
              "      <td>3014</td>\n",
              "      <td>407</td>\n",
              "      <td>4481.35</td>\n",
              "      <td>3</td>\n",
              "      <td>1</td>\n",
              "      <td>1</td>\n",
              "      <td>311</td>\n",
              "    </tr>\n",
              "    <tr>\n",
              "      <th>15874.0</th>\n",
              "      <td>2989</td>\n",
              "      <td>120</td>\n",
              "      <td>4405.88</td>\n",
              "      <td>3</td>\n",
              "      <td>1</td>\n",
              "      <td>1</td>\n",
              "      <td>311</td>\n",
              "    </tr>\n",
              "    <tr>\n",
              "      <th>13555.0</th>\n",
              "      <td>2999</td>\n",
              "      <td>136</td>\n",
              "      <td>4149.28</td>\n",
              "      <td>3</td>\n",
              "      <td>1</td>\n",
              "      <td>1</td>\n",
              "      <td>311</td>\n",
              "    </tr>\n",
              "    <tr>\n",
              "      <th>15416.0</th>\n",
              "      <td>2990</td>\n",
              "      <td>192</td>\n",
              "      <td>3984.32</td>\n",
              "      <td>3</td>\n",
              "      <td>1</td>\n",
              "      <td>1</td>\n",
              "      <td>311</td>\n",
              "    </tr>\n",
              "    <tr>\n",
              "      <th>13124.0</th>\n",
              "      <td>3015</td>\n",
              "      <td>235</td>\n",
              "      <td>3866.33</td>\n",
              "      <td>3</td>\n",
              "      <td>1</td>\n",
              "      <td>1</td>\n",
              "      <td>311</td>\n",
              "    </tr>\n",
              "  </tbody>\n",
              "</table>\n",
              "</div>"
            ],
            "text/plain": [
              "            recency  frequency  ...  m_quartile  RFMScore\n",
              "CustomerID                      ...                      \n",
              "16180.0        3026        162  ...           1       311\n",
              "14952.0        2985        138  ...           1       311\n",
              "16745.0        3012        357  ...           1       311\n",
              "16652.0        2984        118  ...           1       311\n",
              "17509.0        2983        366  ...           1       311\n",
              "16984.0        3014        407  ...           1       311\n",
              "15874.0        2989        120  ...           1       311\n",
              "13555.0        2999        136  ...           1       311\n",
              "15416.0        2990        192  ...           1       311\n",
              "13124.0        3015        235  ...           1       311\n",
              "\n",
              "[10 rows x 7 columns]"
            ]
          },
          "metadata": {
            "tags": []
          },
          "execution_count": 18
        }
      ]
    },
    {
      "cell_type": "markdown",
      "metadata": {
        "id": "duhxO5czFf3w"
      },
      "source": [
        "### Who are lost?  \n",
        "Haven't purchased in the longest time but spent a lot and transacted a lot.  \n",
        "RFM score of *411*."
      ]
    },
    {
      "cell_type": "code",
      "metadata": {
        "id": "zdibr3Y-FfbC",
        "outputId": "7b5ef3b7-a8d4-418c-b256-b00cf9cf1dc3",
        "colab": {
          "base_uri": "https://localhost:8080/",
          "height": 377
        }
      },
      "source": [
        "segmented_rfm[segmented_rfm['RFMScore']==411].sort_values('monetary_value', ascending=False).head(10)"
      ],
      "execution_count": null,
      "outputs": [
        {
          "output_type": "execute_result",
          "data": {
            "text/html": [
              "<div>\n",
              "<style scoped>\n",
              "    .dataframe tbody tr th:only-of-type {\n",
              "        vertical-align: middle;\n",
              "    }\n",
              "\n",
              "    .dataframe tbody tr th {\n",
              "        vertical-align: top;\n",
              "    }\n",
              "\n",
              "    .dataframe thead th {\n",
              "        text-align: right;\n",
              "    }\n",
              "</style>\n",
              "<table border=\"1\" class=\"dataframe\">\n",
              "  <thead>\n",
              "    <tr style=\"text-align: right;\">\n",
              "      <th></th>\n",
              "      <th>recency</th>\n",
              "      <th>frequency</th>\n",
              "      <th>monetary_value</th>\n",
              "      <th>r_quartile</th>\n",
              "      <th>f_quartile</th>\n",
              "      <th>m_quartile</th>\n",
              "      <th>RFMScore</th>\n",
              "    </tr>\n",
              "    <tr>\n",
              "      <th>CustomerID</th>\n",
              "      <th></th>\n",
              "      <th></th>\n",
              "      <th></th>\n",
              "      <th></th>\n",
              "      <th></th>\n",
              "      <th></th>\n",
              "      <th></th>\n",
              "    </tr>\n",
              "  </thead>\n",
              "  <tbody>\n",
              "    <tr>\n",
              "      <th>13093.0</th>\n",
              "      <td>3201</td>\n",
              "      <td>159</td>\n",
              "      <td>7832.470</td>\n",
              "      <td>4</td>\n",
              "      <td>1</td>\n",
              "      <td>1</td>\n",
              "      <td>411</td>\n",
              "    </tr>\n",
              "    <tr>\n",
              "      <th>17850.0</th>\n",
              "      <td>3298</td>\n",
              "      <td>297</td>\n",
              "      <td>5391.210</td>\n",
              "      <td>4</td>\n",
              "      <td>1</td>\n",
              "      <td>1</td>\n",
              "      <td>411</td>\n",
              "    </tr>\n",
              "    <tr>\n",
              "      <th>15808.0</th>\n",
              "      <td>3232</td>\n",
              "      <td>208</td>\n",
              "      <td>3734.970</td>\n",
              "      <td>4</td>\n",
              "      <td>1</td>\n",
              "      <td>1</td>\n",
              "      <td>411</td>\n",
              "    </tr>\n",
              "    <tr>\n",
              "      <th>15379.0</th>\n",
              "      <td>3095</td>\n",
              "      <td>194</td>\n",
              "      <td>3703.290</td>\n",
              "      <td>4</td>\n",
              "      <td>1</td>\n",
              "      <td>1</td>\n",
              "      <td>411</td>\n",
              "    </tr>\n",
              "    <tr>\n",
              "      <th>13952.0</th>\n",
              "      <td>3143</td>\n",
              "      <td>137</td>\n",
              "      <td>3251.071</td>\n",
              "      <td>4</td>\n",
              "      <td>1</td>\n",
              "      <td>1</td>\n",
              "      <td>411</td>\n",
              "    </tr>\n",
              "    <tr>\n",
              "      <th>17504.0</th>\n",
              "      <td>3132</td>\n",
              "      <td>127</td>\n",
              "      <td>2997.030</td>\n",
              "      <td>4</td>\n",
              "      <td>1</td>\n",
              "      <td>1</td>\n",
              "      <td>411</td>\n",
              "    </tr>\n",
              "    <tr>\n",
              "      <th>12840.0</th>\n",
              "      <td>3069</td>\n",
              "      <td>113</td>\n",
              "      <td>2726.770</td>\n",
              "      <td>4</td>\n",
              "      <td>1</td>\n",
              "      <td>1</td>\n",
              "      <td>411</td>\n",
              "    </tr>\n",
              "    <tr>\n",
              "      <th>18260.0</th>\n",
              "      <td>3098</td>\n",
              "      <td>134</td>\n",
              "      <td>2643.200</td>\n",
              "      <td>4</td>\n",
              "      <td>1</td>\n",
              "      <td>1</td>\n",
              "      <td>411</td>\n",
              "    </tr>\n",
              "    <tr>\n",
              "      <th>16919.0</th>\n",
              "      <td>3082</td>\n",
              "      <td>327</td>\n",
              "      <td>2596.450</td>\n",
              "      <td>4</td>\n",
              "      <td>1</td>\n",
              "      <td>1</td>\n",
              "      <td>411</td>\n",
              "    </tr>\n",
              "    <tr>\n",
              "      <th>15235.0</th>\n",
              "      <td>3143</td>\n",
              "      <td>143</td>\n",
              "      <td>2247.510</td>\n",
              "      <td>4</td>\n",
              "      <td>1</td>\n",
              "      <td>1</td>\n",
              "      <td>411</td>\n",
              "    </tr>\n",
              "  </tbody>\n",
              "</table>\n",
              "</div>"
            ],
            "text/plain": [
              "            recency  frequency  ...  m_quartile  RFMScore\n",
              "CustomerID                      ...                      \n",
              "13093.0        3201        159  ...           1       411\n",
              "17850.0        3298        297  ...           1       411\n",
              "15808.0        3232        208  ...           1       411\n",
              "15379.0        3095        194  ...           1       411\n",
              "13952.0        3143        137  ...           1       411\n",
              "17504.0        3132        127  ...           1       411\n",
              "12840.0        3069        113  ...           1       411\n",
              "18260.0        3098        134  ...           1       411\n",
              "16919.0        3082        327  ...           1       411\n",
              "15235.0        3143        143  ...           1       411\n",
              "\n",
              "[10 rows x 7 columns]"
            ]
          },
          "metadata": {
            "tags": []
          },
          "execution_count": 19
        }
      ]
    },
    {
      "cell_type": "markdown",
      "metadata": {
        "id": "dCS9cDrVCAK7"
      },
      "source": [
        "### Who are the bottom 10 worst customers?  \n",
        "RFM score of *444*."
      ]
    },
    {
      "cell_type": "code",
      "metadata": {
        "id": "1BBHq-jcB9Kl",
        "outputId": "f135c02a-ff3e-4d07-8384-ce65d7d3179a",
        "colab": {
          "base_uri": "https://localhost:8080/",
          "height": 377
        }
      },
      "source": [
        "segmented_rfm[segmented_rfm['RFMScore']==444].sort_values('monetary_value', ascending=False).tail(10)"
      ],
      "execution_count": null,
      "outputs": [
        {
          "output_type": "execute_result",
          "data": {
            "text/html": [
              "<div>\n",
              "<style scoped>\n",
              "    .dataframe tbody tr th:only-of-type {\n",
              "        vertical-align: middle;\n",
              "    }\n",
              "\n",
              "    .dataframe tbody tr th {\n",
              "        vertical-align: top;\n",
              "    }\n",
              "\n",
              "    .dataframe thead th {\n",
              "        text-align: right;\n",
              "    }\n",
              "</style>\n",
              "<table border=\"1\" class=\"dataframe\">\n",
              "  <thead>\n",
              "    <tr style=\"text-align: right;\">\n",
              "      <th></th>\n",
              "      <th>recency</th>\n",
              "      <th>frequency</th>\n",
              "      <th>monetary_value</th>\n",
              "      <th>r_quartile</th>\n",
              "      <th>f_quartile</th>\n",
              "      <th>m_quartile</th>\n",
              "      <th>RFMScore</th>\n",
              "    </tr>\n",
              "    <tr>\n",
              "      <th>CustomerID</th>\n",
              "      <th></th>\n",
              "      <th></th>\n",
              "      <th></th>\n",
              "      <th></th>\n",
              "      <th></th>\n",
              "      <th></th>\n",
              "      <th></th>\n",
              "    </tr>\n",
              "  </thead>\n",
              "  <tbody>\n",
              "    <tr>\n",
              "      <th>15940.0</th>\n",
              "      <td>3237</td>\n",
              "      <td>1</td>\n",
              "      <td>35.80</td>\n",
              "      <td>4</td>\n",
              "      <td>4</td>\n",
              "      <td>4</td>\n",
              "      <td>444</td>\n",
              "    </tr>\n",
              "    <tr>\n",
              "      <th>14576.0</th>\n",
              "      <td>3298</td>\n",
              "      <td>1</td>\n",
              "      <td>35.40</td>\n",
              "      <td>4</td>\n",
              "      <td>4</td>\n",
              "      <td>4</td>\n",
              "      <td>444</td>\n",
              "    </tr>\n",
              "    <tr>\n",
              "      <th>16765.0</th>\n",
              "      <td>3220</td>\n",
              "      <td>1</td>\n",
              "      <td>34.00</td>\n",
              "      <td>4</td>\n",
              "      <td>4</td>\n",
              "      <td>4</td>\n",
              "      <td>444</td>\n",
              "    </tr>\n",
              "    <tr>\n",
              "      <th>17408.0</th>\n",
              "      <td>3089</td>\n",
              "      <td>2</td>\n",
              "      <td>32.65</td>\n",
              "      <td>4</td>\n",
              "      <td>4</td>\n",
              "      <td>4</td>\n",
              "      <td>444</td>\n",
              "    </tr>\n",
              "    <tr>\n",
              "      <th>13120.0</th>\n",
              "      <td>3164</td>\n",
              "      <td>1</td>\n",
              "      <td>30.60</td>\n",
              "      <td>4</td>\n",
              "      <td>4</td>\n",
              "      <td>4</td>\n",
              "      <td>444</td>\n",
              "    </tr>\n",
              "    <tr>\n",
              "      <th>17102.0</th>\n",
              "      <td>3187</td>\n",
              "      <td>1</td>\n",
              "      <td>25.50</td>\n",
              "      <td>4</td>\n",
              "      <td>4</td>\n",
              "      <td>4</td>\n",
              "      <td>444</td>\n",
              "    </tr>\n",
              "    <tr>\n",
              "      <th>15823.0</th>\n",
              "      <td>3298</td>\n",
              "      <td>1</td>\n",
              "      <td>15.00</td>\n",
              "      <td>4</td>\n",
              "      <td>4</td>\n",
              "      <td>4</td>\n",
              "      <td>444</td>\n",
              "    </tr>\n",
              "    <tr>\n",
              "      <th>17763.0</th>\n",
              "      <td>3189</td>\n",
              "      <td>1</td>\n",
              "      <td>15.00</td>\n",
              "      <td>4</td>\n",
              "      <td>4</td>\n",
              "      <td>4</td>\n",
              "      <td>444</td>\n",
              "    </tr>\n",
              "    <tr>\n",
              "      <th>17956.0</th>\n",
              "      <td>3175</td>\n",
              "      <td>1</td>\n",
              "      <td>12.75</td>\n",
              "      <td>4</td>\n",
              "      <td>4</td>\n",
              "      <td>4</td>\n",
              "      <td>444</td>\n",
              "    </tr>\n",
              "    <tr>\n",
              "      <th>16738.0</th>\n",
              "      <td>3223</td>\n",
              "      <td>1</td>\n",
              "      <td>3.75</td>\n",
              "      <td>4</td>\n",
              "      <td>4</td>\n",
              "      <td>4</td>\n",
              "      <td>444</td>\n",
              "    </tr>\n",
              "  </tbody>\n",
              "</table>\n",
              "</div>"
            ],
            "text/plain": [
              "            recency  frequency  ...  m_quartile  RFMScore\n",
              "CustomerID                      ...                      \n",
              "15940.0        3237          1  ...           4       444\n",
              "14576.0        3298          1  ...           4       444\n",
              "16765.0        3220          1  ...           4       444\n",
              "17408.0        3089          2  ...           4       444\n",
              "13120.0        3164          1  ...           4       444\n",
              "17102.0        3187          1  ...           4       444\n",
              "15823.0        3298          1  ...           4       444\n",
              "17763.0        3189          1  ...           4       444\n",
              "17956.0        3175          1  ...           4       444\n",
              "16738.0        3223          1  ...           4       444\n",
              "\n",
              "[10 rows x 7 columns]"
            ]
          },
          "metadata": {
            "tags": []
          },
          "execution_count": 20
        }
      ]
    },
    {
      "cell_type": "markdown",
      "metadata": {
        "id": "mIwD41BGKF-p"
      },
      "source": [
        "# Exercise: Do Customer Segmentation on a Different Dataset  \n",
        "[link](https://query.data.world/s/oavhrdt2a4dhhg4agcbff6h3llnqsw) to dataset."
      ]
    }
  ]
}